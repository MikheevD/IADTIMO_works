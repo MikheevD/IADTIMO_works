{
  "nbformat": 4,
  "nbformat_minor": 0,
  "metadata": {
    "colab": {
      "provenance": []
    },
    "kernelspec": {
      "name": "python3",
      "display_name": "Python 3"
    },
    "language_info": {
      "name": "python"
    }
  },
  "cells": [
    {
      "cell_type": "markdown",
      "source": [
        "Задание 1"
      ],
      "metadata": {
        "id": "ToQ1f3MvC7pS"
      }
    },
    {
      "cell_type": "code",
      "execution_count": null,
      "metadata": {
        "id": "KD-PSVcFCuWt"
      },
      "outputs": [],
      "source": [
        "from sklearn.datasets import load_breast_cancer\n",
        "dataset = load_breast_cancer()"
      ]
    },
    {
      "cell_type": "markdown",
      "source": [
        "Задание 2"
      ],
      "metadata": {
        "id": "Gmk2Jl_TC-Q6"
      }
    },
    {
      "cell_type": "code",
      "source": [
        "data_col_names = dataset.feature_names\n",
        "data = dataset.data\n",
        "target = dataset.target"
      ],
      "metadata": {
        "id": "uLVnaw2kCzmm"
      },
      "execution_count": null,
      "outputs": []
    },
    {
      "cell_type": "markdown",
      "source": [
        "Задание 3"
      ],
      "metadata": {
        "id": "KCH8-TLwC_ll"
      }
    },
    {
      "cell_type": "code",
      "source": [
        "import numpy as np\n",
        "import pandas as pd\n",
        "from numpy import linalg as LA\n",
        "\n",
        "def c_pca(initial_data, pс_number: int):\n",
        "    df = pd.DataFrame(data=initial_data, columns=data_col_names)\n",
        "\n",
        "    # нормализация\n",
        "    df = df - df.mean()\n",
        "    numpy_arr = pd.DataFrame(df).to_numpy()\n",
        "\n",
        "    # матрица ковариации\n",
        "    cov_matr = np.cov(numpy_arr, rowvar=False)\n",
        "\n",
        "    # диагонализация\n",
        "    eigenvalues, eigenvectors = LA.eig(cov_matr)\n",
        "\n",
        "    # сортировка\n",
        "    sorted_indexes = np.argsort(-eigenvalues)\n",
        "\n",
        "    # N главные компоненты\n",
        "    pc_indexes = sorted_indexes[:pс_number]\n",
        "    n_principal_components = eigenvectors[:, pc_indexes]\n",
        "\n",
        "    # модификация исходных нормализованных данных\n",
        "    dotted_data = np.dot(numpy_arr, n_principal_components)\n",
        "    return dotted_data"
      ],
      "metadata": {
        "id": "aFgOxPCWC2NV"
      },
      "execution_count": null,
      "outputs": []
    },
    {
      "cell_type": "markdown",
      "source": [
        "Задание 4"
      ],
      "metadata": {
        "id": "KeUwNGOqDCWR"
      }
    },
    {
      "cell_type": "code",
      "source": [
        "from sklearn.decomposition import PCA\n",
        "\n",
        "def skl_pca(initial_data, pс_number: int):\n",
        "    X = np.array(data)\n",
        "    pca = PCA(n_components=pс_number)\n",
        "    pca.fit(X)\n",
        "    return pca.transform(data)"
      ],
      "metadata": {
        "id": "umxHvr5aDEF_"
      },
      "execution_count": null,
      "outputs": []
    },
    {
      "cell_type": "code",
      "source": [
        "skl_pca(data, 2)"
      ],
      "metadata": {
        "colab": {
          "base_uri": "https://localhost:8080/"
        },
        "id": "cSb8m_tnDF0X",
        "outputId": "971277c6-989b-409d-a770-83faaefddb43"
      },
      "execution_count": null,
      "outputs": [
        {
          "output_type": "execute_result",
          "data": {
            "text/plain": [
              "array([[1160.1425737 , -293.91754364],\n",
              "       [1269.12244319,   15.63018184],\n",
              "       [ 995.79388896,   39.15674324],\n",
              "       ...,\n",
              "       [ 314.50175618,   47.55352518],\n",
              "       [1124.85811531,   34.12922497],\n",
              "       [-771.52762188,  -88.64310636]])"
            ]
          },
          "metadata": {},
          "execution_count": 5
        }
      ]
    },
    {
      "cell_type": "code",
      "source": [
        "skl_pca(data, 3)"
      ],
      "metadata": {
        "colab": {
          "base_uri": "https://localhost:8080/"
        },
        "id": "5CDG262eDG-q",
        "outputId": "1f4e6841-d453-4449-db12-ba026972db93"
      },
      "execution_count": null,
      "outputs": [
        {
          "output_type": "execute_result",
          "data": {
            "text/plain": [
              "array([[1160.1425737 , -293.91754364,   48.57839763],\n",
              "       [1269.12244319,   15.63018184,  -35.39453423],\n",
              "       [ 995.79388896,   39.15674324,   -1.70975298],\n",
              "       ...,\n",
              "       [ 314.50175618,   47.55352518,  -10.44240718],\n",
              "       [1124.85811531,   34.12922497,  -19.74208742],\n",
              "       [-771.52762188,  -88.64310636,   23.88903189]])"
            ]
          },
          "metadata": {},
          "execution_count": 6
        }
      ]
    },
    {
      "cell_type": "code",
      "source": [
        "skl_pca(data, 4)"
      ],
      "metadata": {
        "colab": {
          "base_uri": "https://localhost:8080/"
        },
        "id": "oOH092zVDJmu",
        "outputId": "eb4a7967-bb70-412f-e3e9-3e347a0d58a4"
      },
      "execution_count": null,
      "outputs": [
        {
          "output_type": "execute_result",
          "data": {
            "text/plain": [
              "array([[1160.1425737 , -293.91754364,   48.57839763,   -8.71197531],\n",
              "       [1269.12244319,   15.63018184,  -35.39453423,   17.86128323],\n",
              "       [ 995.79388896,   39.15674324,   -1.70975298,    4.1993401 ],\n",
              "       ...,\n",
              "       [ 314.50175618,   47.55352518,  -10.44240718,   -9.77188104],\n",
              "       [1124.85811531,   34.12922497,  -19.74208742,  -23.66088144],\n",
              "       [-771.52762188,  -88.64310636,   23.88903189,    2.54724855]])"
            ]
          },
          "metadata": {},
          "execution_count": 7
        }
      ]
    },
    {
      "cell_type": "code",
      "source": [
        "c_pca(data, 2)"
      ],
      "metadata": {
        "colab": {
          "base_uri": "https://localhost:8080/"
        },
        "id": "bNIzCqy-DKhW",
        "outputId": "86c055ff-7812-4b1c-86f1-52a7f9f10460"
      },
      "execution_count": null,
      "outputs": [
        {
          "output_type": "execute_result",
          "data": {
            "text/plain": [
              "array([[1160.1425737 , -293.91754364],\n",
              "       [1269.12244319,   15.63018184],\n",
              "       [ 995.79388896,   39.15674324],\n",
              "       ...,\n",
              "       [ 314.50175618,   47.55352518],\n",
              "       [1124.85811531,   34.12922497],\n",
              "       [-771.52762188,  -88.64310636]])"
            ]
          },
          "metadata": {},
          "execution_count": 8
        }
      ]
    },
    {
      "cell_type": "code",
      "source": [
        "c_pca(data, 3)"
      ],
      "metadata": {
        "colab": {
          "base_uri": "https://localhost:8080/"
        },
        "id": "ShV49XXsDNTX",
        "outputId": "4743fa34-9061-42ea-8bb0-e50c11e2b17f"
      },
      "execution_count": null,
      "outputs": [
        {
          "output_type": "execute_result",
          "data": {
            "text/plain": [
              "array([[1160.1425737 , -293.91754364,   48.57839763],\n",
              "       [1269.12244319,   15.63018184,  -35.39453423],\n",
              "       [ 995.79388896,   39.15674324,   -1.70975298],\n",
              "       ...,\n",
              "       [ 314.50175618,   47.55352518,  -10.44240718],\n",
              "       [1124.85811531,   34.12922497,  -19.74208742],\n",
              "       [-771.52762188,  -88.64310636,   23.88903189]])"
            ]
          },
          "metadata": {},
          "execution_count": 9
        }
      ]
    },
    {
      "cell_type": "code",
      "source": [
        "c_pca(data, 4)"
      ],
      "metadata": {
        "colab": {
          "base_uri": "https://localhost:8080/"
        },
        "id": "_kWa5esoDNhN",
        "outputId": "c05155ff-4b7d-4934-fc48-02ee514023ac"
      },
      "execution_count": null,
      "outputs": [
        {
          "output_type": "execute_result",
          "data": {
            "text/plain": [
              "array([[1160.1425737 , -293.91754364,   48.57839763,   -8.71197531],\n",
              "       [1269.12244319,   15.63018184,  -35.39453423,   17.86128323],\n",
              "       [ 995.79388896,   39.15674324,   -1.70975298,    4.1993401 ],\n",
              "       ...,\n",
              "       [ 314.50175618,   47.55352518,  -10.44240718,   -9.77188104],\n",
              "       [1124.85811531,   34.12922497,  -19.74208742,  -23.66088144],\n",
              "       [-771.52762188,  -88.64310636,   23.88903189,    2.54724855]])"
            ]
          },
          "metadata": {},
          "execution_count": 10
        }
      ]
    }
  ]
}