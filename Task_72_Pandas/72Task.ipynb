{
  "nbformat": 4,
  "nbformat_minor": 0,
  "metadata": {
    "colab": {
      "provenance": []
    },
    "kernelspec": {
      "name": "python3",
      "display_name": "Python 3"
    },
    "language_info": {
      "name": "python"
    }
  },
  "cells": [
    {
      "cell_type": "markdown",
      "source": [
        "Задача 0"
      ],
      "metadata": {
        "id": "bPtFo0mt1xK2"
      }
    },
    {
      "cell_type": "code",
      "execution_count": null,
      "metadata": {
        "colab": {
          "base_uri": "https://localhost:8080/"
        },
        "id": "ic5sNimJKYGl",
        "outputId": "dacc1d11-c3a3-4711-a0bf-5ce59a382fba"
      },
      "outputs": [
        {
          "output_type": "stream",
          "name": "stdout",
          "text": [
            "a    0\n",
            "b    1\n",
            "c    2\n",
            "e    3\n",
            "d    4\n",
            "dtype: int64\n"
          ]
        }
      ],
      "source": [
        "import numpy as np\n",
        "import pandas as pd\n",
        "mylist = list('abcedfghijklmnopqrstuvwxyz')\n",
        "myarr = np.arange(26)\n",
        "mydict = dict(zip(mylist, myarr))\n",
        "\n",
        "ser = pd.Series(mydict)\n",
        "print (ser.head())"
      ]
    },
    {
      "cell_type": "markdown",
      "source": [
        "Задача 1"
      ],
      "metadata": {
        "id": "xgtT5fz511uL"
      }
    },
    {
      "cell_type": "code",
      "source": [
        "df = ser.to_frame().reset_index()\n",
        "print (df.head())"
      ],
      "metadata": {
        "colab": {
          "base_uri": "https://localhost:8080/"
        },
        "id": "k0rG4Q1kLr4D",
        "outputId": "312f73d2-a026-4982-e655-4b78e89eee6b"
      },
      "execution_count": null,
      "outputs": [
        {
          "output_type": "stream",
          "name": "stdout",
          "text": [
            "  index  0\n",
            "0     a  0\n",
            "1     b  1\n",
            "2     c  2\n",
            "3     e  3\n",
            "4     d  4\n"
          ]
        }
      ]
    },
    {
      "cell_type": "markdown",
      "source": [
        "Задача 2"
      ],
      "metadata": {
        "id": "DEog2hN113J3"
      }
    },
    {
      "cell_type": "code",
      "source": [
        "import numpy as np\n",
        "import pandas as pd\n",
        "mylist = list('abcedfghijklmnopqrstuvwxyz')\n",
        "myarr = np.arange(26)\n",
        "mydict = dict(zip(mylist, myarr))\n",
        "Ser1 = pd.Series(mylist)\n",
        "Ser2 = pd.Series(myarr)\n",
        "df1 = pd.DataFrame(Ser1, columns= ['1'])\n",
        "df2 = pd.DataFrame(Ser2, columns= ['2'])\n",
        "dataframe = pd.concat([df1, df2], axis=1)\n",
        "print (dataframe.head())"
      ],
      "metadata": {
        "colab": {
          "base_uri": "https://localhost:8080/"
        },
        "id": "qKQ6i0c6Mfd6",
        "outputId": "2a00d6ac-ea8e-488e-869b-10a188e5413e"
      },
      "execution_count": null,
      "outputs": [
        {
          "output_type": "stream",
          "name": "stdout",
          "text": [
            "   1  2\n",
            "0  a  0\n",
            "1  b  1\n",
            "2  c  2\n",
            "3  e  3\n",
            "4  d  4\n"
          ]
        }
      ]
    },
    {
      "cell_type": "markdown",
      "source": [
        "Задача 3"
      ],
      "metadata": {
        "id": "JUYHdAZk14t5"
      }
    },
    {
      "cell_type": "code",
      "source": [
        "ser = pd.Series(list('abcedfghijklmnopqrstuvwxyz'))\n",
        "df= pd.DataFrame(ser, columns = ['latin_letters'] )\n",
        "print (df.head())"
      ],
      "metadata": {
        "colab": {
          "base_uri": "https://localhost:8080/"
        },
        "id": "ldhmw54FQsyY",
        "outputId": "d73ea8f9-1ccb-41f1-b2cb-1ca07b947c5e"
      },
      "execution_count": null,
      "outputs": [
        {
          "output_type": "stream",
          "name": "stdout",
          "text": [
            "  latin_letters\n",
            "0             a\n",
            "1             b\n",
            "2             c\n",
            "3             e\n",
            "4             d\n"
          ]
        }
      ]
    },
    {
      "cell_type": "markdown",
      "source": [
        "Задача 4"
      ],
      "metadata": {
        "id": "nJHa-iUR17Kc"
      }
    },
    {
      "cell_type": "code",
      "source": [
        "ser1 = pd.Series([1, 2, 3, 4, 5])\n",
        "ser2 = pd.Series([4, 5, 6, 7, 8])\n",
        "\n",
        "res = ser1[~np.isin(ser1, ser2)]\n",
        "print(res)"
      ],
      "metadata": {
        "colab": {
          "base_uri": "https://localhost:8080/"
        },
        "id": "PCxVx71dOrz8",
        "outputId": "716b2863-2bf9-410b-d165-dc9b8ea8fc06"
      },
      "execution_count": null,
      "outputs": [
        {
          "output_type": "stream",
          "name": "stdout",
          "text": [
            "0    1\n",
            "1    2\n",
            "2    3\n",
            "dtype: int64\n"
          ]
        }
      ]
    },
    {
      "cell_type": "markdown",
      "source": [
        "Задача 5"
      ],
      "metadata": {
        "id": "0GvuMCOV17wL"
      }
    },
    {
      "cell_type": "code",
      "source": [
        "ser1 = pd.Series([1, 2, 3, 4, 5])\n",
        "ser2 = pd.Series([4, 5, 6, 7, 8])\n",
        "\n",
        "union = pd.Series(np.union1d(ser1, ser2))\n",
        "intersect = pd.Series(np.intersect1d(ser1, ser2))\n",
        "notcommonseries = union[~union.isin(intersect)]\n",
        "print(notcommonseries)"
      ],
      "metadata": {
        "id": "OFG1dU7TOsHQ",
        "colab": {
          "base_uri": "https://localhost:8080/"
        },
        "outputId": "59e170e3-b3e6-4071-865d-31df264bb531"
      },
      "execution_count": null,
      "outputs": [
        {
          "output_type": "stream",
          "name": "stdout",
          "text": [
            "0    1\n",
            "1    2\n",
            "2    3\n",
            "5    6\n",
            "6    7\n",
            "7    8\n",
            "dtype: int64\n"
          ]
        }
      ]
    },
    {
      "cell_type": "markdown",
      "source": [
        "Задача 6"
      ],
      "metadata": {
        "id": "-6TXpVl018N2"
      }
    },
    {
      "cell_type": "code",
      "source": [
        "ser = pd.Series(np.random.normal(10, 5, 25))\n",
        "\n",
        "result = np.percentile(ser, q=[0, 25, 50, 75, 100])\n",
        "print(\"\\nMinimum, 25th percentile, median, 75th, and maximum of a given series:\")\n",
        "print(result)"
      ],
      "metadata": {
        "id": "3KsWD61VOsWh",
        "colab": {
          "base_uri": "https://localhost:8080/"
        },
        "outputId": "964768b1-a7e9-47e8-ea9f-db94151cca34"
      },
      "execution_count": null,
      "outputs": [
        {
          "output_type": "stream",
          "name": "stdout",
          "text": [
            "\n",
            "Minimum, 25th percentile, median, 75th, and maximum of a given series:\n",
            "[-1.76485925  4.88282134  8.68076882 12.08738767 14.59660767]\n"
          ]
        }
      ]
    },
    {
      "cell_type": "markdown",
      "source": [
        "Задача 7"
      ],
      "metadata": {
        "id": "O5CckV4p18nk"
      }
    },
    {
      "cell_type": "code",
      "source": [
        "ser = pd.Series(np.take(list('abcdefgh'), np.random.randint(8, size=30)))\n",
        "\n",
        "print(ser.value_counts())"
      ],
      "metadata": {
        "id": "BBlsq16mOskO",
        "colab": {
          "base_uri": "https://localhost:8080/"
        },
        "outputId": "5d58895b-6891-4ee4-fcfc-9cae4fb9e89a"
      },
      "execution_count": null,
      "outputs": [
        {
          "output_type": "stream",
          "name": "stdout",
          "text": [
            "g    5\n",
            "b    5\n",
            "c    4\n",
            "h    4\n",
            "f    3\n",
            "a    3\n",
            "e    3\n",
            "d    3\n",
            "dtype: int64\n"
          ]
        }
      ]
    },
    {
      "cell_type": "markdown",
      "source": [
        "Задача 8"
      ],
      "metadata": {
        "id": "iAFxBvv819C4"
      }
    },
    {
      "cell_type": "code",
      "source": [
        "np.random.RandomState(100)\n",
        "ser = pd.Series(np.random.randint(1, 5, [12]))\n",
        "\n",
        "print(\"Топ 2:\", ser.value_counts())\n",
        "ser[~ser.isin(ser.value_counts().index[:2])] = \"Прочее\"\n",
        "print(\"\\n\")\n",
        "print(ser)"
      ],
      "metadata": {
        "id": "bQM2zuvhOs6V",
        "colab": {
          "base_uri": "https://localhost:8080/"
        },
        "outputId": "daa3140e-8047-4785-edce-301c9d5bf5c6"
      },
      "execution_count": null,
      "outputs": [
        {
          "output_type": "stream",
          "name": "stdout",
          "text": [
            "Топ 2: 2    6\n",
            "3    3\n",
            "4    2\n",
            "1    1\n",
            "dtype: int64\n",
            "\n",
            "\n",
            "0          2\n",
            "1     Прочее\n",
            "2          2\n",
            "3          2\n",
            "4          3\n",
            "5     Прочее\n",
            "6          3\n",
            "7          2\n",
            "8          2\n",
            "9          3\n",
            "10    Прочее\n",
            "11         2\n",
            "dtype: object\n"
          ]
        }
      ]
    },
    {
      "cell_type": "markdown",
      "source": [
        "Задача 9"
      ],
      "metadata": {
        "id": "ph7ciKpm19ya"
      }
    },
    {
      "cell_type": "code",
      "source": [
        "ser = pd.Series(np.random.random(20))\n",
        "\n",
        "print(ser.head())\n",
        "print(\"\\n\")\n",
        "pd.qcut(ser,q=[0,.10,.20,.30,.40,.50,.60,.70,.80,.90,1],labels=['1','2','3','4','5','6','7','8','9','10']).head()\n"
      ],
      "metadata": {
        "colab": {
          "base_uri": "https://localhost:8080/"
        },
        "id": "05oCJ0I6E9Pg",
        "outputId": "a1ecb34e-ea12-49c2-cb6e-999e6b51d332"
      },
      "execution_count": null,
      "outputs": [
        {
          "output_type": "stream",
          "name": "stdout",
          "text": [
            "0    0.592746\n",
            "1    0.034493\n",
            "2    0.903521\n",
            "3    0.607705\n",
            "4    0.497667\n",
            "dtype: float64\n",
            "\n",
            "\n"
          ]
        },
        {
          "output_type": "execute_result",
          "data": {
            "text/plain": [
              "0     6\n",
              "1     1\n",
              "2    10\n",
              "3     6\n",
              "4     5\n",
              "dtype: category\n",
              "Categories (10, object): ['1' < '2' < '3' < '4' ... '7' < '8' < '9' < '10']"
            ]
          },
          "metadata": {},
          "execution_count": 11
        }
      ]
    },
    {
      "cell_type": "markdown",
      "source": [
        "Задача 10"
      ],
      "metadata": {
        "id": "Mt_6XUS41-V8"
      }
    },
    {
      "cell_type": "code",
      "source": [
        "ser = pd.Series(np.random.randint(1, 10, 35))\n",
        "\n",
        "df=pd.DataFrame(ser.values.reshape(7,5))\n",
        "print(df)"
      ],
      "metadata": {
        "colab": {
          "base_uri": "https://localhost:8080/"
        },
        "id": "TLjRzov8E_7c",
        "outputId": "88017bc7-3902-44f4-fcde-61d1e1bf839e"
      },
      "execution_count": null,
      "outputs": [
        {
          "output_type": "stream",
          "name": "stdout",
          "text": [
            "   0  1  2  3  4\n",
            "0  7  9  6  7  1\n",
            "1  6  1  2  3  7\n",
            "2  9  8  7  1  3\n",
            "3  4  7  6  8  9\n",
            "4  1  9  9  6  3\n",
            "5  6  3  7  7  3\n",
            "6  2  7  5  5  8\n"
          ]
        }
      ]
    },
    {
      "cell_type": "markdown",
      "source": [
        "Задача 11"
      ],
      "metadata": {
        "id": "1EnftTtx1-6w"
      }
    },
    {
      "cell_type": "code",
      "source": [
        "ser = pd.Series(np.random.randint(1, 10, 7))\n",
        "\n",
        "res= ser[ser % 3 == 0].index\n",
        "print(res)"
      ],
      "metadata": {
        "colab": {
          "base_uri": "https://localhost:8080/"
        },
        "id": "hyA2XkZMFCqo",
        "outputId": "ec511252-bf17-4f02-c976-2c617066d624"
      },
      "execution_count": null,
      "outputs": [
        {
          "output_type": "stream",
          "name": "stdout",
          "text": [
            "Int64Index([0, 1, 3], dtype='int64')\n"
          ]
        }
      ]
    },
    {
      "cell_type": "markdown",
      "source": [
        "Задача 12"
      ],
      "metadata": {
        "id": "WazShi8j1_k1"
      }
    },
    {
      "cell_type": "code",
      "source": [
        "ser = pd.Series(list('abcdefghijklmnopqrstuvwxyz'))\n",
        "pos = [0, 4, 8, 14, 20]\n",
        "\n",
        "res = ser.take(pos)\n",
        "print(res)\n"
      ],
      "metadata": {
        "colab": {
          "base_uri": "https://localhost:8080/"
        },
        "id": "PcZyEqqTFEdj",
        "outputId": "288db361-2ce5-4e43-86bb-7730738cab7d"
      },
      "execution_count": null,
      "outputs": [
        {
          "output_type": "stream",
          "name": "stdout",
          "text": [
            "0     a\n",
            "4     e\n",
            "8     i\n",
            "14    o\n",
            "20    u\n",
            "dtype: object\n"
          ]
        }
      ]
    },
    {
      "cell_type": "markdown",
      "source": [
        "Задача 13"
      ],
      "metadata": {
        "id": "iw6cU5It2AKh"
      }
    },
    {
      "cell_type": "code",
      "source": [
        "ser1 = pd.Series(range(5))\n",
        "ser2 = pd.Series(list('abcde'))\n",
        "\n",
        "res_vertical = ser1.append(ser2)\n",
        "res_horizontal = pd.concat([ser1, ser2], axis=1)\n",
        "\n",
        "print(res_vertical)\n",
        "print(\"\\n\")\n",
        "print(res_horizontal)"
      ],
      "metadata": {
        "colab": {
          "base_uri": "https://localhost:8080/"
        },
        "id": "vLtQhkNqFFNE",
        "outputId": "b7a0fae7-1287-4355-8201-6e79d6b166ba"
      },
      "execution_count": null,
      "outputs": [
        {
          "output_type": "stream",
          "name": "stdout",
          "text": [
            "0    0\n",
            "1    1\n",
            "2    2\n",
            "3    3\n",
            "4    4\n",
            "0    a\n",
            "1    b\n",
            "2    c\n",
            "3    d\n",
            "4    e\n",
            "dtype: object\n",
            "\n",
            "\n",
            "   0  1\n",
            "0  0  a\n",
            "1  1  b\n",
            "2  2  c\n",
            "3  3  d\n",
            "4  4  e\n"
          ]
        },
        {
          "output_type": "stream",
          "name": "stderr",
          "text": [
            "<ipython-input-15-6c95b54278af>:4: FutureWarning: The series.append method is deprecated and will be removed from pandas in a future version. Use pandas.concat instead.\n",
            "  res_vertical = ser1.append(ser2)\n"
          ]
        }
      ]
    },
    {
      "cell_type": "markdown",
      "source": [
        "Задача 14"
      ],
      "metadata": {
        "id": "zhnjLpd-2BDb"
      }
    },
    {
      "cell_type": "code",
      "source": [
        "ser1 = pd.Series([10, 9, 6, 5, 3, 1, 12, 8, 13])\n",
        "ser2 = pd.Series([1, 3, 10, 13])\n",
        "\n",
        "[np.where(i==ser1)[0].tolist()[0] for i in ser2]\n",
        "[pd.Index(ser1).get_loc(i) for i in ser2]"
      ],
      "metadata": {
        "colab": {
          "base_uri": "https://localhost:8080/"
        },
        "id": "e3UhtBsTFFXw",
        "outputId": "d65ad900-e552-41ae-a571-61d69677bf05"
      },
      "execution_count": null,
      "outputs": [
        {
          "output_type": "execute_result",
          "data": {
            "text/plain": [
              "[5, 4, 0, 8]"
            ]
          },
          "metadata": {},
          "execution_count": 16
        }
      ]
    },
    {
      "cell_type": "markdown",
      "source": [
        "Задача 15"
      ],
      "metadata": {
        "id": "eDfJfOOx2BsI"
      }
    },
    {
      "cell_type": "code",
      "source": [
        "\n",
        "truth = pd.Series(range(10))\n",
        "pred = pd.Series(range(10)) + np.random.random(10)\n",
        "\n",
        "np.mean((truth-pred)**2)"
      ],
      "metadata": {
        "colab": {
          "base_uri": "https://localhost:8080/"
        },
        "id": "MXFxwXNLFFj9",
        "outputId": "90243c93-f0e4-4281-dc26-fb54ff3776c9"
      },
      "execution_count": null,
      "outputs": [
        {
          "output_type": "execute_result",
          "data": {
            "text/plain": [
              "0.31981781897935535"
            ]
          },
          "metadata": {},
          "execution_count": 17
        }
      ]
    },
    {
      "cell_type": "markdown",
      "source": [
        "Задача 16"
      ],
      "metadata": {
        "id": "Xro1Dt5p2CW3"
      }
    },
    {
      "cell_type": "code",
      "source": [
        "ser = pd.Series(['how', 'to', 'kick', 'ass?'])\n",
        "\n",
        "newser=ser.map(lambda x: x.title())\n",
        "print(newser)"
      ],
      "metadata": {
        "colab": {
          "base_uri": "https://localhost:8080/"
        },
        "id": "0ak7VHVvFF1t",
        "outputId": "3e1f92ae-76e9-406e-cffb-a0f81af11024"
      },
      "execution_count": null,
      "outputs": [
        {
          "output_type": "stream",
          "name": "stdout",
          "text": [
            "0     How\n",
            "1      To\n",
            "2    Kick\n",
            "3    Ass?\n",
            "dtype: object\n"
          ]
        }
      ]
    },
    {
      "cell_type": "markdown",
      "source": [
        "Задача 17"
      ],
      "metadata": {
        "id": "NhQse2eW2C2F"
      }
    },
    {
      "cell_type": "code",
      "source": [
        "ser = pd.Series(['how', 'to', 'kick', 'ass?'])\n",
        "\n",
        "res = ser.map(lambda calc: len(calc))\n",
        "print(res)"
      ],
      "metadata": {
        "colab": {
          "base_uri": "https://localhost:8080/"
        },
        "id": "1XC-9RQSFGBJ",
        "outputId": "553d5dd0-b352-4083-dca6-3f8333315227"
      },
      "execution_count": null,
      "outputs": [
        {
          "output_type": "stream",
          "name": "stdout",
          "text": [
            "0    3\n",
            "1    2\n",
            "2    4\n",
            "3    4\n",
            "dtype: int64\n"
          ]
        }
      ]
    },
    {
      "cell_type": "markdown",
      "source": [
        "Задача 18"
      ],
      "metadata": {
        "id": "sJyeCWtc2DXd"
      }
    },
    {
      "cell_type": "code",
      "source": [
        "ser = pd.Series([1, 3, 6, 10, 15, 21, 27, 35])\n",
        "\n",
        "print(ser.diff())"
      ],
      "metadata": {
        "colab": {
          "base_uri": "https://localhost:8080/"
        },
        "id": "-B8A9R9EFGLX",
        "outputId": "d55aceed-3648-484e-caab-cef0f657035e"
      },
      "execution_count": null,
      "outputs": [
        {
          "output_type": "stream",
          "name": "stdout",
          "text": [
            "0    NaN\n",
            "1    2.0\n",
            "2    3.0\n",
            "3    4.0\n",
            "4    5.0\n",
            "5    6.0\n",
            "6    6.0\n",
            "7    8.0\n",
            "dtype: float64\n"
          ]
        }
      ]
    },
    {
      "cell_type": "markdown",
      "source": [
        "Задача 19"
      ],
      "metadata": {
        "id": "iGlyidME2D64"
      }
    },
    {
      "cell_type": "code",
      "source": [
        "ser = pd.Series(['01 Jan 2010', '02-02-2011', '20120303', '2013/04/04', '2014-05-05', '2015-06-06T12:20'])\n",
        "\n",
        "res = pd.to_datetime(ser)\n",
        "print(res)"
      ],
      "metadata": {
        "colab": {
          "base_uri": "https://localhost:8080/"
        },
        "id": "F8mm6kFtFGXk",
        "outputId": "ea8e5d83-4663-40b8-bf8a-d35e351985c3"
      },
      "execution_count": null,
      "outputs": [
        {
          "output_type": "stream",
          "name": "stdout",
          "text": [
            "0   2010-01-01 00:00:00\n",
            "1   2011-02-02 00:00:00\n",
            "2   2012-03-03 00:00:00\n",
            "3   2013-04-04 00:00:00\n",
            "4   2014-05-05 00:00:00\n",
            "5   2015-06-06 12:20:00\n",
            "dtype: datetime64[ns]\n"
          ]
        }
      ]
    },
    {
      "cell_type": "markdown",
      "source": [
        "Задача 20"
      ],
      "metadata": {
        "id": "cn8VP1q02E8p"
      }
    },
    {
      "cell_type": "code",
      "source": [
        "ser = pd.Series(['01 Jan 2010', '02-02-2011', '20120303', '2013/04/04', '2014-05-05', '2015-06-06T12:20'])\n",
        "\n",
        "from dateutil.parser import parse\n",
        "res = ser.map(lambda x: parse(x))\n",
        "print(\"Day of month:\")\n",
        "print(res.dt.day.tolist())\n",
        "print(\"Day of year:\")\n",
        "print(res.dt.dayofyear.tolist())\n",
        "print(\"Week number:\")\n",
        "print(res.dt.weekofyear.tolist())\n",
        "print(\"Day of week:\")\n",
        "print(list(res.dt.day_name()))"
      ],
      "metadata": {
        "colab": {
          "base_uri": "https://localhost:8080/"
        },
        "id": "bYE6ygUZFGrZ",
        "outputId": "2422e73a-5cff-4268-d82b-c7b0cd34e612"
      },
      "execution_count": null,
      "outputs": [
        {
          "output_type": "stream",
          "name": "stdout",
          "text": [
            "Day of month:\n",
            "[1, 2, 3, 4, 5, 6]\n",
            "Day of year:\n",
            "[1, 33, 63, 94, 125, 157]\n",
            "Week number:\n",
            "[53, 5, 9, 14, 19, 23]\n",
            "Day of week:\n",
            "['Friday', 'Wednesday', 'Saturday', 'Thursday', 'Monday', 'Saturday']\n"
          ]
        },
        {
          "output_type": "stream",
          "name": "stderr",
          "text": [
            "<ipython-input-22-d2f430d34987>:10: FutureWarning: Series.dt.weekofyear and Series.dt.week have been deprecated. Please use Series.dt.isocalendar().week instead.\n",
            "  print(res.dt.weekofyear.tolist())\n"
          ]
        }
      ]
    },
    {
      "cell_type": "markdown",
      "source": [
        "Задача 21"
      ],
      "metadata": {
        "id": "lNYLhTF_2FeV"
      }
    },
    {
      "cell_type": "code",
      "source": [
        "ser = pd.Series(['Jan 2010', 'Feb 2011', 'Mar 2012'])\n",
        "\n",
        "print(pd.to_datetime(ser).apply(lambda x: x.replace(day=4)))"
      ],
      "metadata": {
        "colab": {
          "base_uri": "https://localhost:8080/"
        },
        "id": "CBBv1fQGFWAT",
        "outputId": "f76093e4-db11-46ea-adfc-d47e006db8df"
      },
      "execution_count": null,
      "outputs": [
        {
          "output_type": "stream",
          "name": "stdout",
          "text": [
            "0   2010-01-04\n",
            "1   2011-02-04\n",
            "2   2012-03-04\n",
            "dtype: datetime64[ns]\n"
          ]
        }
      ]
    },
    {
      "cell_type": "markdown",
      "source": [
        "Задача 22"
      ],
      "metadata": {
        "id": "F3O87yvq2GPG"
      }
    },
    {
      "cell_type": "code",
      "source": [
        "ser = pd.Series(['Apple', 'Orange', 'Plan', 'Python', 'Money'])\n",
        "\n",
        "from collections import Counter\n",
        "\n",
        "mask = ser.map(lambda x: sum([Counter(x.lower()).get(i, 0) for i in list('aeiouаоиеёэыуюя')]) >= 2)\n",
        "res = ser[mask]\n",
        "print(res)"
      ],
      "metadata": {
        "colab": {
          "base_uri": "https://localhost:8080/"
        },
        "id": "_HLsHUP6FWx9",
        "outputId": "13e1402b-d82e-4eac-ae28-9c34af76a4f4"
      },
      "execution_count": null,
      "outputs": [
        {
          "output_type": "stream",
          "name": "stdout",
          "text": [
            "0     Apple\n",
            "1    Orange\n",
            "4     Money\n",
            "dtype: object\n"
          ]
        }
      ]
    },
    {
      "cell_type": "markdown",
      "source": [
        "Задача 23"
      ],
      "metadata": {
        "id": "wzVzzo6V2Gti"
      }
    },
    {
      "cell_type": "code",
      "source": [
        "emails = pd.Series(['buying books at amazom.com', 'rameses@egypt.com', 'matt@t.co', 'narendra@modi.com'])\n",
        "pattern ='[A-Za-z0-9._%+-]+@[A-Za-z0-9.-]+\\.[A-Za-z]{2,4}'\n",
        "\n",
        "import re\n",
        "mask = emails.map(lambda x: bool(re.match(pattern, x)))\n",
        "res = emails[mask]\n",
        "print(res)"
      ],
      "metadata": {
        "colab": {
          "base_uri": "https://localhost:8080/"
        },
        "id": "ubBrAGHwFW-7",
        "outputId": "d2cd2f41-2583-4029-ae11-3ec13893d948"
      },
      "execution_count": null,
      "outputs": [
        {
          "output_type": "stream",
          "name": "stdout",
          "text": [
            "1    rameses@egypt.com\n",
            "2            matt@t.co\n",
            "3    narendra@modi.com\n",
            "dtype: object\n"
          ]
        }
      ]
    },
    {
      "cell_type": "markdown",
      "source": [
        "Задача 24"
      ],
      "metadata": {
        "id": "MJK6_a1C2HOo"
      }
    },
    {
      "cell_type": "code",
      "source": [
        "fruit = pd.Series(np.random.choice(['apple', 'banana', 'carrot'], 10))\n",
        "weights = pd.Series(np.linspace(1, 10, 10))\n",
        "print(weights.tolist())\n",
        "print(fruit.tolist())\n",
        "print(\"\\n\")\n",
        "\n",
        "weights.groupby(fruit).mean()"
      ],
      "metadata": {
        "colab": {
          "base_uri": "https://localhost:8080/"
        },
        "id": "oa95Qm7hFXLa",
        "outputId": "58f266b3-b03b-4b89-b6b7-8d272e527a90"
      },
      "execution_count": null,
      "outputs": [
        {
          "output_type": "stream",
          "name": "stdout",
          "text": [
            "[1.0, 2.0, 3.0, 4.0, 5.0, 6.0, 7.0, 8.0, 9.0, 10.0]\n",
            "['banana', 'banana', 'banana', 'apple', 'carrot', 'apple', 'apple', 'carrot', 'apple', 'apple']\n",
            "\n",
            "\n"
          ]
        },
        {
          "output_type": "execute_result",
          "data": {
            "text/plain": [
              "apple     7.2\n",
              "banana    2.0\n",
              "carrot    6.5\n",
              "dtype: float64"
            ]
          },
          "metadata": {},
          "execution_count": 26
        }
      ]
    },
    {
      "cell_type": "markdown",
      "source": [
        "Задача 25"
      ],
      "metadata": {
        "id": "Ge_-FFUz2Hzz"
      }
    },
    {
      "cell_type": "code",
      "source": [
        "p = pd.Series([1, 2, 3, 4, 5, 6, 7, 8, 9, 10])\n",
        "q = pd.Series([10, 9, 8, 7, 6, 5, 4, 3, 2, 1])\n",
        "\n",
        "res = sum((p-q)**2)**0.5\n",
        "print(res)"
      ],
      "metadata": {
        "colab": {
          "base_uri": "https://localhost:8080/"
        },
        "id": "lKpvEgjNFXWy",
        "outputId": "3a2a50b4-ca78-4bdd-809a-1c81c6c64d6b"
      },
      "execution_count": null,
      "outputs": [
        {
          "output_type": "stream",
          "name": "stdout",
          "text": [
            "18.16590212458495\n"
          ]
        }
      ]
    },
    {
      "cell_type": "markdown",
      "source": [
        "Задача 26"
      ],
      "metadata": {
        "id": "T0QPnzQV2Icm"
      }
    },
    {
      "cell_type": "code",
      "source": [
        "ser = pd.Series([2, 10, 3, 4, 9, 10, 2, 7, 3])\n",
        "\n",
        "dd = np.diff(np.sign(np.diff(ser)))\n",
        "peak_locs = np.where(dd == -2)[0] + 1\n",
        "peak_locs"
      ],
      "metadata": {
        "colab": {
          "base_uri": "https://localhost:8080/"
        },
        "id": "JSrNr4OeFXhc",
        "outputId": "9752b553-b9ea-45d0-ebb7-6b6818cdadef"
      },
      "execution_count": null,
      "outputs": [
        {
          "output_type": "execute_result",
          "data": {
            "text/plain": [
              "array([1, 5, 7])"
            ]
          },
          "metadata": {},
          "execution_count": 28
        }
      ]
    },
    {
      "cell_type": "markdown",
      "source": [
        "Задача 27"
      ],
      "metadata": {
        "id": "tX8wSlia2I9i"
      }
    },
    {
      "cell_type": "code",
      "source": [
        "my_str = 'dbc deb abed gade'\n",
        "\n",
        "ser = pd.Series(list('dbc deb abed gade'))\n",
        "freq = ser.value_counts()\n",
        "least_freq = freq.dropna().index[-1]\n",
        "''.join(ser.replace(' ', least_freq))"
      ],
      "metadata": {
        "colab": {
          "base_uri": "https://localhost:8080/",
          "height": 35
        },
        "id": "7Lg8tDS1FXtd",
        "outputId": "7be65bc0-3839-449f-8312-3d966d59b240"
      },
      "execution_count": null,
      "outputs": [
        {
          "output_type": "execute_result",
          "data": {
            "text/plain": [
              "'dbcgdebgabedggade'"
            ],
            "application/vnd.google.colaboratory.intrinsic+json": {
              "type": "string"
            }
          },
          "metadata": {},
          "execution_count": 29
        }
      ]
    },
    {
      "cell_type": "markdown",
      "source": [
        "Задача 28"
      ],
      "metadata": {
        "id": "aDQXeP2f2Jek"
      }
    },
    {
      "cell_type": "code",
      "source": [
        "ser = pd.Series(np.random.randint(1,10,10), pd.date_range('2000-01-01', periods=10, freq='W-SAT'))\n",
        "ser"
      ],
      "metadata": {
        "colab": {
          "base_uri": "https://localhost:8080/"
        },
        "id": "qp98FMc4FX5Z",
        "outputId": "6d8e8e4b-8fc8-4db2-ca7a-b6eb7bdedc08"
      },
      "execution_count": null,
      "outputs": [
        {
          "output_type": "execute_result",
          "data": {
            "text/plain": [
              "2000-01-01    2\n",
              "2000-01-08    2\n",
              "2000-01-15    4\n",
              "2000-01-22    1\n",
              "2000-01-29    4\n",
              "2000-02-05    1\n",
              "2000-02-12    8\n",
              "2000-02-19    8\n",
              "2000-02-26    1\n",
              "2000-03-04    7\n",
              "Freq: W-SAT, dtype: int64"
            ]
          },
          "metadata": {},
          "execution_count": 30
        }
      ]
    },
    {
      "cell_type": "markdown",
      "source": [
        "Задача 29"
      ],
      "metadata": {
        "id": "53p0elx12J6y"
      }
    },
    {
      "cell_type": "code",
      "source": [
        "ser = pd.Series([1,10,3,np.nan], index=pd.to_datetime(['2000-01-01', '2000-01-03', '2000-01-06', '2000-01-08']))\n",
        "print(ser)\n",
        "\n",
        "print(\"\\n\")\n",
        "ser=ser.resample('D').ffill()  # fill with previous value\n",
        "ser=ser.resample('D').bfill()  # fill with previous value\n",
        "print(ser)"
      ],
      "metadata": {
        "colab": {
          "base_uri": "https://localhost:8080/"
        },
        "id": "K9KSSG90FYIw",
        "outputId": "84c69f6a-fe5b-4dfb-ad98-08cca941fec0"
      },
      "execution_count": null,
      "outputs": [
        {
          "output_type": "stream",
          "name": "stdout",
          "text": [
            "2000-01-01     1.0\n",
            "2000-01-03    10.0\n",
            "2000-01-06     3.0\n",
            "2000-01-08     NaN\n",
            "dtype: float64\n",
            "\n",
            "\n",
            "2000-01-01     1.0\n",
            "2000-01-02     1.0\n",
            "2000-01-03    10.0\n",
            "2000-01-04    10.0\n",
            "2000-01-05    10.0\n",
            "2000-01-06     3.0\n",
            "2000-01-07     3.0\n",
            "2000-01-08     NaN\n",
            "Freq: D, dtype: float64\n"
          ]
        }
      ]
    },
    {
      "cell_type": "markdown",
      "source": [
        "Задача 30"
      ],
      "metadata": {
        "id": "YP9PyK582KSB"
      }
    },
    {
      "cell_type": "code",
      "source": [
        "ser = pd.Series(np.arange(20) + np.random.normal(1, 10, 20))\n",
        "\n",
        "autocorr = [ser.autocorr(lag=i).round(2) for i in range(20)]\n",
        "print(autocorr)\n",
        "print('Наиб. корреляция: ', np.argmax(np.abs(autocorr[1:]))+1)"
      ],
      "metadata": {
        "colab": {
          "base_uri": "https://localhost:8080/"
        },
        "id": "cbW3FQAGFYVf",
        "outputId": "a7745161-dc1f-4e9d-cbf7-e78402d8cf9e"
      },
      "execution_count": null,
      "outputs": [
        {
          "output_type": "stream",
          "name": "stdout",
          "text": [
            "[1.0, -0.12, -0.05, -0.1, -0.25, 0.34, -0.13, 0.46, 0.04, -0.55, 0.15, -0.03, 0.35, 0.21, 0.01, -0.27, -0.27, -0.92, 1.0, nan]\n",
            "Наиб. корреляция:  19\n"
          ]
        },
        {
          "output_type": "stream",
          "name": "stderr",
          "text": [
            "/usr/local/lib/python3.10/dist-packages/numpy/lib/function_base.py:2845: RuntimeWarning: Degrees of freedom <= 0 for slice\n",
            "  c = cov(x, y, rowvar, dtype=dtype)\n",
            "/usr/local/lib/python3.10/dist-packages/numpy/lib/function_base.py:2704: RuntimeWarning: divide by zero encountered in divide\n",
            "  c *= np.true_divide(1, fact)\n"
          ]
        }
      ]
    },
    {
      "cell_type": "markdown",
      "source": [
        "Задача 31"
      ],
      "metadata": {
        "id": "5MQmdOdc2KtD"
      }
    },
    {
      "cell_type": "code",
      "source": [
        "df = pd.read_csv('https://raw.githubusercontent.com/selva86/datasets/master/BostonHousing.csv', chunksize=50)\n",
        "df2 = pd.concat([chunk.iloc[0] for chunk in df], axis=1)\n",
        "df2 = df2.transpose()\n",
        "print(df2.head())\n"
      ],
      "metadata": {
        "colab": {
          "base_uri": "https://localhost:8080/"
        },
        "id": "H1lPpAixFYmp",
        "outputId": "94ea5120-3fd2-4150-c6c4-1b7fbcfcefe3"
      },
      "execution_count": null,
      "outputs": [
        {
          "output_type": "stream",
          "name": "stdout",
          "text": [
            "        crim    zn  indus  chas    nox     rm   age     dis  rad    tax  \\\n",
            "0    0.00632  18.0   2.31   0.0  0.538  6.575  65.2  4.0900  1.0  296.0   \n",
            "50   0.08873  21.0   5.64   0.0  0.439  5.963  45.7  6.8147  4.0  243.0   \n",
            "100  0.14866   0.0   8.56   0.0  0.520  6.727  79.9  2.7778  5.0  384.0   \n",
            "150  1.65660   0.0  19.58   0.0  0.871  6.122  97.3  1.6180  5.0  403.0   \n",
            "200  0.01778  95.0   1.47   0.0  0.403  7.135  13.9  7.6534  3.0  402.0   \n",
            "\n",
            "     ptratio       b  lstat  medv  \n",
            "0       15.3  396.90   4.98  24.0  \n",
            "50      16.8  395.56  13.45  19.7  \n",
            "100     20.9  394.76   9.42  27.5  \n",
            "150     14.7  372.80  14.10  21.5  \n",
            "200     17.0  384.30   4.45  32.9  \n"
          ]
        }
      ]
    },
    {
      "cell_type": "markdown",
      "source": [
        "Задача 32"
      ],
      "metadata": {
        "id": "i9zsfW0y2LGD"
      }
    },
    {
      "cell_type": "code",
      "source": [
        "df = pd.read_csv('https://raw.githubusercontent.com/selva86/datasets/master/BostonHousing.csv', converters={'medv': lambda x: 'High' if float(x) > 25 else 'Low'})\n",
        "print(df.head())"
      ],
      "metadata": {
        "colab": {
          "base_uri": "https://localhost:8080/"
        },
        "id": "JsJnORNyFZKw",
        "outputId": "445a7e4e-45aa-41a5-e50b-22fe0beeaac2"
      },
      "execution_count": null,
      "outputs": [
        {
          "output_type": "stream",
          "name": "stdout",
          "text": [
            "      crim    zn  indus  chas    nox     rm   age     dis  rad  tax  ptratio  \\\n",
            "0  0.00632  18.0   2.31     0  0.538  6.575  65.2  4.0900    1  296     15.3   \n",
            "1  0.02731   0.0   7.07     0  0.469  6.421  78.9  4.9671    2  242     17.8   \n",
            "2  0.02729   0.0   7.07     0  0.469  7.185  61.1  4.9671    2  242     17.8   \n",
            "3  0.03237   0.0   2.18     0  0.458  6.998  45.8  6.0622    3  222     18.7   \n",
            "4  0.06905   0.0   2.18     0  0.458  7.147  54.2  6.0622    3  222     18.7   \n",
            "\n",
            "        b  lstat  medv  \n",
            "0  396.90   4.98   Low  \n",
            "1  396.90   9.14   Low  \n",
            "2  392.83   4.03  High  \n",
            "3  394.63   2.94  High  \n",
            "4  396.90   5.33  High  \n"
          ]
        }
      ]
    },
    {
      "cell_type": "markdown",
      "source": [
        "Задача 33"
      ],
      "metadata": {
        "id": "9xbfxRjO2Lkj"
      }
    },
    {
      "cell_type": "code",
      "source": [
        "L = pd.Series(range(15))\n",
        "\n",
        "def gen_strides(a, stride_len=5, window_len=5):\n",
        "    n_strides = ((a.size-window_len)//stride_len) + 1\n",
        "    return np.array([a[s:(s+window_len)] for s in np.arange(0, a.size, stride_len)[:n_strides]])\n",
        "\n",
        "gen_strides(L, stride_len=2, window_len=4)"
      ],
      "metadata": {
        "colab": {
          "base_uri": "https://localhost:8080/"
        },
        "id": "tnCDviJZFqMg",
        "outputId": "c38e59e8-1ff2-46c9-d90d-152185e633af"
      },
      "execution_count": null,
      "outputs": [
        {
          "output_type": "execute_result",
          "data": {
            "text/plain": [
              "array([[ 0,  1,  2,  3],\n",
              "       [ 2,  3,  4,  5],\n",
              "       [ 4,  5,  6,  7],\n",
              "       [ 6,  7,  8,  9],\n",
              "       [ 8,  9, 10, 11],\n",
              "       [10, 11, 12, 13]])"
            ]
          },
          "metadata": {},
          "execution_count": 35
        }
      ]
    },
    {
      "cell_type": "markdown",
      "source": [
        "Задача 34"
      ],
      "metadata": {
        "id": "KVTdPlmA2Mpi"
      }
    },
    {
      "cell_type": "code",
      "source": [
        "df = pd.read_csv('https://raw.githubusercontent.com/selva86/datasets/master/BostonHousing.csv', usecols=['crim', 'medv'])\n",
        "print(df.head())"
      ],
      "metadata": {
        "colab": {
          "base_uri": "https://localhost:8080/"
        },
        "id": "dOI03ckLFqZi",
        "outputId": "a8011a13-5403-42c5-d9c7-e20b03d3f91d"
      },
      "execution_count": null,
      "outputs": [
        {
          "output_type": "stream",
          "name": "stdout",
          "text": [
            "      crim  medv\n",
            "0  0.00632  24.0\n",
            "1  0.02731  21.6\n",
            "2  0.02729  34.7\n",
            "3  0.03237  33.4\n",
            "4  0.06905  36.2\n"
          ]
        }
      ]
    },
    {
      "cell_type": "markdown",
      "source": [
        "Задача 35"
      ],
      "metadata": {
        "id": "57Wx3Gw_2NOS"
      }
    },
    {
      "cell_type": "code",
      "source": [
        "df = pd.read_csv('https://raw.githubusercontent.com/selva86/datasets/master/Cars93_miss.csv')\n",
        "print(df.shape)\n",
        "print(df.dtypes)\n",
        "print(df.dtypes.value_counts())\n",
        "df_stats = df.describe()\n",
        "df_arr = df.values\n",
        "df_list = df.values.tolist()"
      ],
      "metadata": {
        "colab": {
          "base_uri": "https://localhost:8080/"
        },
        "id": "-gLI_C1dFqj9",
        "outputId": "a1ba1058-84e0-4de1-8a12-0ae8a7d143cb"
      },
      "execution_count": null,
      "outputs": [
        {
          "output_type": "stream",
          "name": "stdout",
          "text": [
            "(93, 27)\n",
            "Manufacturer           object\n",
            "Model                  object\n",
            "Type                   object\n",
            "Min.Price             float64\n",
            "Price                 float64\n",
            "Max.Price             float64\n",
            "MPG.city              float64\n",
            "MPG.highway           float64\n",
            "AirBags                object\n",
            "DriveTrain             object\n",
            "Cylinders              object\n",
            "EngineSize            float64\n",
            "Horsepower            float64\n",
            "RPM                   float64\n",
            "Rev.per.mile          float64\n",
            "Man.trans.avail        object\n",
            "Fuel.tank.capacity    float64\n",
            "Passengers            float64\n",
            "Length                float64\n",
            "Wheelbase             float64\n",
            "Width                 float64\n",
            "Turn.circle           float64\n",
            "Rear.seat.room        float64\n",
            "Luggage.room          float64\n",
            "Weight                float64\n",
            "Origin                 object\n",
            "Make                   object\n",
            "dtype: object\n",
            "float64    18\n",
            "object      9\n",
            "dtype: int64\n"
          ]
        }
      ]
    },
    {
      "cell_type": "markdown",
      "source": [
        "Задача 36"
      ],
      "metadata": {
        "id": "fRAfUp042NzJ"
      }
    },
    {
      "cell_type": "code",
      "source": [
        "df = pd.read_csv('https://raw.githubusercontent.com/selva86/datasets/master/Cars93_miss.csv')\n",
        "\n",
        "print(df.loc[df.Price == np.max(df.Price), ['Manufacturer', 'Model', 'Type']])\n",
        "row, col = np.where(df.values == np.max(df.Price))\n",
        "print(df.iat[row[0], col[0]])\n",
        "print(df.iloc[row[0], col[0]])"
      ],
      "metadata": {
        "colab": {
          "base_uri": "https://localhost:8080/"
        },
        "id": "6DxuT6q3FqxV",
        "outputId": "34a85b19-cbc9-40a0-cfc7-667b49f43fe5"
      },
      "execution_count": null,
      "outputs": [
        {
          "output_type": "stream",
          "name": "stdout",
          "text": [
            "     Manufacturer Model     Type\n",
            "58  Mercedes-Benz  300E  Midsize\n",
            "61.9\n",
            "61.9\n"
          ]
        }
      ]
    },
    {
      "cell_type": "markdown",
      "source": [
        "Задача 37"
      ],
      "metadata": {
        "id": "WByhcpd_2OJq"
      }
    },
    {
      "cell_type": "code",
      "source": [
        "df = pd.read_csv('https://raw.githubusercontent.com/selva86/datasets/master/Cars93_miss.csv')\n",
        "print(df.columns)\n",
        "\n",
        "df=df.rename(columns = {'Type':'CarType'})\n",
        "df.columns = df.columns.map(lambda x: x.replace('.', '_'))\n",
        "print(df.columns)"
      ],
      "metadata": {
        "colab": {
          "base_uri": "https://localhost:8080/"
        },
        "id": "Ss6cDhg3FrD7",
        "outputId": "a340554f-3c47-4897-b896-852044443e7a"
      },
      "execution_count": null,
      "outputs": [
        {
          "output_type": "stream",
          "name": "stdout",
          "text": [
            "Index(['Manufacturer', 'Model', 'Type', 'Min.Price', 'Price', 'Max.Price',\n",
            "       'MPG.city', 'MPG.highway', 'AirBags', 'DriveTrain', 'Cylinders',\n",
            "       'EngineSize', 'Horsepower', 'RPM', 'Rev.per.mile', 'Man.trans.avail',\n",
            "       'Fuel.tank.capacity', 'Passengers', 'Length', 'Wheelbase', 'Width',\n",
            "       'Turn.circle', 'Rear.seat.room', 'Luggage.room', 'Weight', 'Origin',\n",
            "       'Make'],\n",
            "      dtype='object')\n",
            "Index(['Manufacturer', 'Model', 'CarType', 'Min_Price', 'Price', 'Max_Price',\n",
            "       'MPG_city', 'MPG_highway', 'AirBags', 'DriveTrain', 'Cylinders',\n",
            "       'EngineSize', 'Horsepower', 'RPM', 'Rev_per_mile', 'Man_trans_avail',\n",
            "       'Fuel_tank_capacity', 'Passengers', 'Length', 'Wheelbase', 'Width',\n",
            "       'Turn_circle', 'Rear_seat_room', 'Luggage_room', 'Weight', 'Origin',\n",
            "       'Make'],\n",
            "      dtype='object')\n"
          ]
        }
      ]
    },
    {
      "cell_type": "markdown",
      "source": [
        "Задача 38"
      ],
      "metadata": {
        "id": "pnH3uHX02Onw"
      }
    },
    {
      "cell_type": "code",
      "source": [
        "df = pd.read_csv('https://raw.githubusercontent.com/selva86/datasets/master/Cars93_miss.csv')\n",
        "\n",
        "df.isnull().values.any()"
      ],
      "metadata": {
        "colab": {
          "base_uri": "https://localhost:8080/"
        },
        "id": "89ybsKZFFrWh",
        "outputId": "da154397-3f86-45da-c34a-f9645516c011"
      },
      "execution_count": null,
      "outputs": [
        {
          "output_type": "execute_result",
          "data": {
            "text/plain": [
              "True"
            ]
          },
          "metadata": {},
          "execution_count": 40
        }
      ]
    },
    {
      "cell_type": "markdown",
      "source": [
        "Задача 39"
      ],
      "metadata": {
        "id": "_L6h2iqX2PI3"
      }
    },
    {
      "cell_type": "code",
      "source": [
        "df = pd.read_csv('https://raw.githubusercontent.com/selva86/datasets/master/Cars93_miss.csv')\n",
        "\n",
        "n_missings_each_col = df.apply(lambda x: x.isnull().sum())\n",
        "print(n_missings_each_col.argmax())\n",
        "print(df.apply(lambda x: x.isnull().sum()).idxmax())"
      ],
      "metadata": {
        "colab": {
          "base_uri": "https://localhost:8080/"
        },
        "id": "0eo2_YmTFrmE",
        "outputId": "5e2081dd-fd05-41c9-fe18-3a22917f1694"
      },
      "execution_count": null,
      "outputs": [
        {
          "output_type": "stream",
          "name": "stdout",
          "text": [
            "23\n",
            "Luggage.room\n"
          ]
        }
      ]
    },
    {
      "cell_type": "markdown",
      "source": [
        "Задача 40"
      ],
      "metadata": {
        "id": "qFmM6L472Pp5"
      }
    },
    {
      "cell_type": "code",
      "source": [
        "df = pd.read_csv('https://raw.githubusercontent.com/selva86/datasets/master/Cars93_miss.csv')\n",
        "\n",
        "df_out = df[['Min.Price', 'Max.Price']] = df[['Min.Price', 'Max.Price']].apply(lambda x: x.fillna(x.mean()))\n",
        "print(df_out.head())"
      ],
      "metadata": {
        "colab": {
          "base_uri": "https://localhost:8080/"
        },
        "id": "ZheeXVx2Frzr",
        "outputId": "1378c192-9dae-4a2c-e830-32230e4a6c5c"
      },
      "execution_count": null,
      "outputs": [
        {
          "output_type": "stream",
          "name": "stdout",
          "text": [
            "   Min.Price  Max.Price\n",
            "0  12.900000  18.800000\n",
            "1  29.200000  38.700000\n",
            "2  25.900000  32.300000\n",
            "3  17.118605  44.600000\n",
            "4  17.118605  21.459091\n"
          ]
        }
      ]
    },
    {
      "cell_type": "markdown",
      "source": [
        "Задача 41"
      ],
      "metadata": {
        "id": "BfyluUYa2QZV"
      }
    },
    {
      "cell_type": "code",
      "source": [
        "df = pd.read_csv('https://raw.githubusercontent.com/selva86/datasets/master/Cars93_miss.csv')\n",
        "\n",
        "d = {'Min.Price': np.nanmean, 'Max.Price': np.nanmedian}\n",
        "df_out = df[['Min.Price', 'Max.Price']] = df[['Min.Price', 'Max.Price']].apply(lambda x, d: x.fillna(d[x.name](x)), args=(d, ))\n",
        "print(df_out.head())"
      ],
      "metadata": {
        "colab": {
          "base_uri": "https://localhost:8080/"
        },
        "id": "_plCDD80FsFN",
        "outputId": "60c69fe2-12da-4b75-e847-fea4c7f08102"
      },
      "execution_count": null,
      "outputs": [
        {
          "output_type": "stream",
          "name": "stdout",
          "text": [
            "   Min.Price  Max.Price\n",
            "0  12.900000      18.80\n",
            "1  29.200000      38.70\n",
            "2  25.900000      32.30\n",
            "3  17.118605      44.60\n",
            "4  17.118605      19.15\n"
          ]
        }
      ]
    },
    {
      "cell_type": "markdown",
      "source": [
        "Задача 42"
      ],
      "metadata": {
        "id": "UZSc8Gv82Q1M"
      }
    },
    {
      "cell_type": "code",
      "source": [
        "df = pd.DataFrame(np.arange(20).reshape(-1, 5), columns=list('abcde'))\n",
        "\n",
        "type(df[['a']])\n",
        "type(df.loc[:, ['a']])\n",
        "type(df.iloc[:, [0]])"
      ],
      "metadata": {
        "colab": {
          "base_uri": "https://localhost:8080/"
        },
        "id": "3WCOEXLAFsTY",
        "outputId": "0e077e9b-ff09-420c-89e2-2cc918816a23"
      },
      "execution_count": null,
      "outputs": [
        {
          "output_type": "execute_result",
          "data": {
            "text/plain": [
              "pandas.core.frame.DataFrame"
            ]
          },
          "metadata": {},
          "execution_count": 44
        }
      ]
    },
    {
      "cell_type": "markdown",
      "source": [
        "Задача 43"
      ],
      "metadata": {
        "id": "gaQmmOdM2Rjl"
      }
    },
    {
      "cell_type": "code",
      "source": [
        "df = pd.DataFrame(np.arange(20).reshape(-1, 5), columns=list('abcde'))\n",
        "\n",
        "df[list('cbade')]\n",
        "def switch_columns(df, col1=None, col2=None):\n",
        "    colnames = df.columns.tolist()\n",
        "    i1, i2 = colnames.index(col1), colnames.index(col2)\n",
        "    colnames[i2], colnames[i1] = colnames[i1], colnames[i2]\n",
        "    return df[colnames]\n",
        "df1 = switch_columns(df, 'a', 'c')\n",
        "df[sorted(df.columns)]"
      ],
      "metadata": {
        "colab": {
          "base_uri": "https://localhost:8080/",
          "height": 175
        },
        "id": "loQxmU4MFshC",
        "outputId": "35707195-c4cd-4b06-b3cc-e5251534c4d2"
      },
      "execution_count": null,
      "outputs": [
        {
          "output_type": "execute_result",
          "data": {
            "text/plain": [
              "    a   b   c   d   e\n",
              "0   0   1   2   3   4\n",
              "1   5   6   7   8   9\n",
              "2  10  11  12  13  14\n",
              "3  15  16  17  18  19"
            ],
            "text/html": [
              "\n",
              "  <div id=\"df-1b2b1e2d-25d9-4f83-b1ac-d4e487b11700\" class=\"colab-df-container\">\n",
              "    <div>\n",
              "<style scoped>\n",
              "    .dataframe tbody tr th:only-of-type {\n",
              "        vertical-align: middle;\n",
              "    }\n",
              "\n",
              "    .dataframe tbody tr th {\n",
              "        vertical-align: top;\n",
              "    }\n",
              "\n",
              "    .dataframe thead th {\n",
              "        text-align: right;\n",
              "    }\n",
              "</style>\n",
              "<table border=\"1\" class=\"dataframe\">\n",
              "  <thead>\n",
              "    <tr style=\"text-align: right;\">\n",
              "      <th></th>\n",
              "      <th>a</th>\n",
              "      <th>b</th>\n",
              "      <th>c</th>\n",
              "      <th>d</th>\n",
              "      <th>e</th>\n",
              "    </tr>\n",
              "  </thead>\n",
              "  <tbody>\n",
              "    <tr>\n",
              "      <th>0</th>\n",
              "      <td>0</td>\n",
              "      <td>1</td>\n",
              "      <td>2</td>\n",
              "      <td>3</td>\n",
              "      <td>4</td>\n",
              "    </tr>\n",
              "    <tr>\n",
              "      <th>1</th>\n",
              "      <td>5</td>\n",
              "      <td>6</td>\n",
              "      <td>7</td>\n",
              "      <td>8</td>\n",
              "      <td>9</td>\n",
              "    </tr>\n",
              "    <tr>\n",
              "      <th>2</th>\n",
              "      <td>10</td>\n",
              "      <td>11</td>\n",
              "      <td>12</td>\n",
              "      <td>13</td>\n",
              "      <td>14</td>\n",
              "    </tr>\n",
              "    <tr>\n",
              "      <th>3</th>\n",
              "      <td>15</td>\n",
              "      <td>16</td>\n",
              "      <td>17</td>\n",
              "      <td>18</td>\n",
              "      <td>19</td>\n",
              "    </tr>\n",
              "  </tbody>\n",
              "</table>\n",
              "</div>\n",
              "    <div class=\"colab-df-buttons\">\n",
              "\n",
              "  <div class=\"colab-df-container\">\n",
              "    <button class=\"colab-df-convert\" onclick=\"convertToInteractive('df-1b2b1e2d-25d9-4f83-b1ac-d4e487b11700')\"\n",
              "            title=\"Convert this dataframe to an interactive table.\"\n",
              "            style=\"display:none;\">\n",
              "\n",
              "  <svg xmlns=\"http://www.w3.org/2000/svg\" height=\"24px\" viewBox=\"0 -960 960 960\">\n",
              "    <path d=\"M120-120v-720h720v720H120Zm60-500h600v-160H180v160Zm220 220h160v-160H400v160Zm0 220h160v-160H400v160ZM180-400h160v-160H180v160Zm440 0h160v-160H620v160ZM180-180h160v-160H180v160Zm440 0h160v-160H620v160Z\"/>\n",
              "  </svg>\n",
              "    </button>\n",
              "\n",
              "  <style>\n",
              "    .colab-df-container {\n",
              "      display:flex;\n",
              "      gap: 12px;\n",
              "    }\n",
              "\n",
              "    .colab-df-convert {\n",
              "      background-color: #E8F0FE;\n",
              "      border: none;\n",
              "      border-radius: 50%;\n",
              "      cursor: pointer;\n",
              "      display: none;\n",
              "      fill: #1967D2;\n",
              "      height: 32px;\n",
              "      padding: 0 0 0 0;\n",
              "      width: 32px;\n",
              "    }\n",
              "\n",
              "    .colab-df-convert:hover {\n",
              "      background-color: #E2EBFA;\n",
              "      box-shadow: 0px 1px 2px rgba(60, 64, 67, 0.3), 0px 1px 3px 1px rgba(60, 64, 67, 0.15);\n",
              "      fill: #174EA6;\n",
              "    }\n",
              "\n",
              "    .colab-df-buttons div {\n",
              "      margin-bottom: 4px;\n",
              "    }\n",
              "\n",
              "    [theme=dark] .colab-df-convert {\n",
              "      background-color: #3B4455;\n",
              "      fill: #D2E3FC;\n",
              "    }\n",
              "\n",
              "    [theme=dark] .colab-df-convert:hover {\n",
              "      background-color: #434B5C;\n",
              "      box-shadow: 0px 1px 3px 1px rgba(0, 0, 0, 0.15);\n",
              "      filter: drop-shadow(0px 1px 2px rgba(0, 0, 0, 0.3));\n",
              "      fill: #FFFFFF;\n",
              "    }\n",
              "  </style>\n",
              "\n",
              "    <script>\n",
              "      const buttonEl =\n",
              "        document.querySelector('#df-1b2b1e2d-25d9-4f83-b1ac-d4e487b11700 button.colab-df-convert');\n",
              "      buttonEl.style.display =\n",
              "        google.colab.kernel.accessAllowed ? 'block' : 'none';\n",
              "\n",
              "      async function convertToInteractive(key) {\n",
              "        const element = document.querySelector('#df-1b2b1e2d-25d9-4f83-b1ac-d4e487b11700');\n",
              "        const dataTable =\n",
              "          await google.colab.kernel.invokeFunction('convertToInteractive',\n",
              "                                                    [key], {});\n",
              "        if (!dataTable) return;\n",
              "\n",
              "        const docLinkHtml = 'Like what you see? Visit the ' +\n",
              "          '<a target=\"_blank\" href=https://colab.research.google.com/notebooks/data_table.ipynb>data table notebook</a>'\n",
              "          + ' to learn more about interactive tables.';\n",
              "        element.innerHTML = '';\n",
              "        dataTable['output_type'] = 'display_data';\n",
              "        await google.colab.output.renderOutput(dataTable, element);\n",
              "        const docLink = document.createElement('div');\n",
              "        docLink.innerHTML = docLinkHtml;\n",
              "        element.appendChild(docLink);\n",
              "      }\n",
              "    </script>\n",
              "  </div>\n",
              "\n",
              "\n",
              "<div id=\"df-fb293c83-1004-40dc-abcb-bf6466976d26\">\n",
              "  <button class=\"colab-df-quickchart\" onclick=\"quickchart('df-fb293c83-1004-40dc-abcb-bf6466976d26')\"\n",
              "            title=\"Suggest charts\"\n",
              "            style=\"display:none;\">\n",
              "\n",
              "<svg xmlns=\"http://www.w3.org/2000/svg\" height=\"24px\"viewBox=\"0 0 24 24\"\n",
              "     width=\"24px\">\n",
              "    <g>\n",
              "        <path d=\"M19 3H5c-1.1 0-2 .9-2 2v14c0 1.1.9 2 2 2h14c1.1 0 2-.9 2-2V5c0-1.1-.9-2-2-2zM9 17H7v-7h2v7zm4 0h-2V7h2v10zm4 0h-2v-4h2v4z\"/>\n",
              "    </g>\n",
              "</svg>\n",
              "  </button>\n",
              "\n",
              "<style>\n",
              "  .colab-df-quickchart {\n",
              "      --bg-color: #E8F0FE;\n",
              "      --fill-color: #1967D2;\n",
              "      --hover-bg-color: #E2EBFA;\n",
              "      --hover-fill-color: #174EA6;\n",
              "      --disabled-fill-color: #AAA;\n",
              "      --disabled-bg-color: #DDD;\n",
              "  }\n",
              "\n",
              "  [theme=dark] .colab-df-quickchart {\n",
              "      --bg-color: #3B4455;\n",
              "      --fill-color: #D2E3FC;\n",
              "      --hover-bg-color: #434B5C;\n",
              "      --hover-fill-color: #FFFFFF;\n",
              "      --disabled-bg-color: #3B4455;\n",
              "      --disabled-fill-color: #666;\n",
              "  }\n",
              "\n",
              "  .colab-df-quickchart {\n",
              "    background-color: var(--bg-color);\n",
              "    border: none;\n",
              "    border-radius: 50%;\n",
              "    cursor: pointer;\n",
              "    display: none;\n",
              "    fill: var(--fill-color);\n",
              "    height: 32px;\n",
              "    padding: 0;\n",
              "    width: 32px;\n",
              "  }\n",
              "\n",
              "  .colab-df-quickchart:hover {\n",
              "    background-color: var(--hover-bg-color);\n",
              "    box-shadow: 0 1px 2px rgba(60, 64, 67, 0.3), 0 1px 3px 1px rgba(60, 64, 67, 0.15);\n",
              "    fill: var(--button-hover-fill-color);\n",
              "  }\n",
              "\n",
              "  .colab-df-quickchart-complete:disabled,\n",
              "  .colab-df-quickchart-complete:disabled:hover {\n",
              "    background-color: var(--disabled-bg-color);\n",
              "    fill: var(--disabled-fill-color);\n",
              "    box-shadow: none;\n",
              "  }\n",
              "\n",
              "  .colab-df-spinner {\n",
              "    border: 2px solid var(--fill-color);\n",
              "    border-color: transparent;\n",
              "    border-bottom-color: var(--fill-color);\n",
              "    animation:\n",
              "      spin 1s steps(1) infinite;\n",
              "  }\n",
              "\n",
              "  @keyframes spin {\n",
              "    0% {\n",
              "      border-color: transparent;\n",
              "      border-bottom-color: var(--fill-color);\n",
              "      border-left-color: var(--fill-color);\n",
              "    }\n",
              "    20% {\n",
              "      border-color: transparent;\n",
              "      border-left-color: var(--fill-color);\n",
              "      border-top-color: var(--fill-color);\n",
              "    }\n",
              "    30% {\n",
              "      border-color: transparent;\n",
              "      border-left-color: var(--fill-color);\n",
              "      border-top-color: var(--fill-color);\n",
              "      border-right-color: var(--fill-color);\n",
              "    }\n",
              "    40% {\n",
              "      border-color: transparent;\n",
              "      border-right-color: var(--fill-color);\n",
              "      border-top-color: var(--fill-color);\n",
              "    }\n",
              "    60% {\n",
              "      border-color: transparent;\n",
              "      border-right-color: var(--fill-color);\n",
              "    }\n",
              "    80% {\n",
              "      border-color: transparent;\n",
              "      border-right-color: var(--fill-color);\n",
              "      border-bottom-color: var(--fill-color);\n",
              "    }\n",
              "    90% {\n",
              "      border-color: transparent;\n",
              "      border-bottom-color: var(--fill-color);\n",
              "    }\n",
              "  }\n",
              "</style>\n",
              "\n",
              "  <script>\n",
              "    async function quickchart(key) {\n",
              "      const quickchartButtonEl =\n",
              "        document.querySelector('#' + key + ' button');\n",
              "      quickchartButtonEl.disabled = true;  // To prevent multiple clicks.\n",
              "      quickchartButtonEl.classList.add('colab-df-spinner');\n",
              "      try {\n",
              "        const charts = await google.colab.kernel.invokeFunction(\n",
              "            'suggestCharts', [key], {});\n",
              "      } catch (error) {\n",
              "        console.error('Error during call to suggestCharts:', error);\n",
              "      }\n",
              "      quickchartButtonEl.classList.remove('colab-df-spinner');\n",
              "      quickchartButtonEl.classList.add('colab-df-quickchart-complete');\n",
              "    }\n",
              "    (() => {\n",
              "      let quickchartButtonEl =\n",
              "        document.querySelector('#df-fb293c83-1004-40dc-abcb-bf6466976d26 button');\n",
              "      quickchartButtonEl.style.display =\n",
              "        google.colab.kernel.accessAllowed ? 'block' : 'none';\n",
              "    })();\n",
              "  </script>\n",
              "</div>\n",
              "    </div>\n",
              "  </div>\n"
            ]
          },
          "metadata": {},
          "execution_count": 45
        }
      ]
    },
    {
      "cell_type": "markdown",
      "source": [
        "Задача 44"
      ],
      "metadata": {
        "id": "jNET-9YK2SCj"
      }
    },
    {
      "cell_type": "code",
      "source": [
        "df = pd.read_csv('https://raw.githubusercontent.com/selva86/datasets/master/Cars93_miss.csv')\n",
        "\n",
        "pd.set_option('display.max_columns', 10)\n",
        "pd.set_option('display.max_rows', 10)"
      ],
      "metadata": {
        "id": "NfyHvPTFFsxr"
      },
      "execution_count": null,
      "outputs": []
    },
    {
      "cell_type": "markdown",
      "source": [
        "Задача 45"
      ],
      "metadata": {
        "id": "xpLReXC32Sgf"
      }
    },
    {
      "cell_type": "code",
      "source": [
        "df = pd.DataFrame(np.random.random(4)**10, columns=['random'])\n",
        "\n",
        "df.round(4)\n",
        "df.apply(lambda x: '%.4f' % x, axis=1)\n",
        "pd.set_option('display.float_format', lambda x: '%.4f' % x)\n",
        "pd.options.display.float_format = '{:.4f}'.format\n",
        "print(df)\n",
        "pd.options.display.float_format = None"
      ],
      "metadata": {
        "colab": {
          "base_uri": "https://localhost:8080/"
        },
        "id": "eZu7FVc5FtH7",
        "outputId": "fce7de0b-17b3-438a-b4ff-bfa72b467ea3"
      },
      "execution_count": null,
      "outputs": [
        {
          "output_type": "stream",
          "name": "stdout",
          "text": [
            "   random\n",
            "0  0.0000\n",
            "1  0.5238\n",
            "2  0.0252\n",
            "3  0.1389\n"
          ]
        }
      ]
    },
    {
      "cell_type": "markdown",
      "source": [
        "Задача 46"
      ],
      "metadata": {
        "id": "vIg2cW7U2S9o"
      }
    },
    {
      "cell_type": "code",
      "source": [
        "df = pd.DataFrame(np.random.random(4), columns=['random'])\n",
        "\n",
        "out = df.style.format({'random': '{0:.2%}'.format,})\n",
        "out"
      ],
      "metadata": {
        "colab": {
          "base_uri": "https://localhost:8080/",
          "height": 175
        },
        "id": "U6r2ZutgFtVc",
        "outputId": "c10e5ace-1ab4-4724-fad6-db1fcdb17856"
      },
      "execution_count": null,
      "outputs": [
        {
          "output_type": "execute_result",
          "data": {
            "text/plain": [
              "<pandas.io.formats.style.Styler at 0x78b6ba960370>"
            ],
            "text/html": [
              "<style type=\"text/css\">\n",
              "</style>\n",
              "<table id=\"T_eeaff\" class=\"dataframe\">\n",
              "  <thead>\n",
              "    <tr>\n",
              "      <th class=\"blank level0\" >&nbsp;</th>\n",
              "      <th id=\"T_eeaff_level0_col0\" class=\"col_heading level0 col0\" >random</th>\n",
              "    </tr>\n",
              "  </thead>\n",
              "  <tbody>\n",
              "    <tr>\n",
              "      <th id=\"T_eeaff_level0_row0\" class=\"row_heading level0 row0\" >0</th>\n",
              "      <td id=\"T_eeaff_row0_col0\" class=\"data row0 col0\" >93.30%</td>\n",
              "    </tr>\n",
              "    <tr>\n",
              "      <th id=\"T_eeaff_level0_row1\" class=\"row_heading level0 row1\" >1</th>\n",
              "      <td id=\"T_eeaff_row1_col0\" class=\"data row1 col0\" >55.54%</td>\n",
              "    </tr>\n",
              "    <tr>\n",
              "      <th id=\"T_eeaff_level0_row2\" class=\"row_heading level0 row2\" >2</th>\n",
              "      <td id=\"T_eeaff_row2_col0\" class=\"data row2 col0\" >46.40%</td>\n",
              "    </tr>\n",
              "    <tr>\n",
              "      <th id=\"T_eeaff_level0_row3\" class=\"row_heading level0 row3\" >3</th>\n",
              "      <td id=\"T_eeaff_row3_col0\" class=\"data row3 col0\" >58.97%</td>\n",
              "    </tr>\n",
              "  </tbody>\n",
              "</table>\n"
            ]
          },
          "metadata": {},
          "execution_count": 48
        }
      ]
    },
    {
      "cell_type": "markdown",
      "source": [
        "Задача 47"
      ],
      "metadata": {
        "id": "BkHqHvjc2TYE"
      }
    },
    {
      "cell_type": "code",
      "source": [
        "df = pd.read_csv('https://raw.githubusercontent.com/selva86/datasets/master/Cars93_miss.csv')\n",
        "\n",
        "print(df.iloc[::20, :][['Manufacturer', 'Model', 'Type']])"
      ],
      "metadata": {
        "colab": {
          "base_uri": "https://localhost:8080/"
        },
        "id": "7vYr86-OFtg9",
        "outputId": "b8f1bf20-5301-441b-9289-eccd52111ee9"
      },
      "execution_count": null,
      "outputs": [
        {
          "output_type": "stream",
          "name": "stdout",
          "text": [
            "   Manufacturer    Model     Type\n",
            "0         Acura  Integra    Small\n",
            "20     Chrysler  LeBaron  Compact\n",
            "40        Honda  Prelude   Sporty\n",
            "60      Mercury   Cougar  Midsize\n",
            "80       Subaru   Loyale    Small\n"
          ]
        }
      ]
    },
    {
      "cell_type": "markdown",
      "source": [
        "Задача 48"
      ],
      "metadata": {
        "id": "XoJnUbGg2T7e"
      }
    },
    {
      "cell_type": "code",
      "source": [
        "df = pd.read_csv('https://raw.githubusercontent.com/selva86/datasets/master/Cars93_miss.csv', usecols=[0,1,2,3,5])\n",
        "\n",
        "df_out=df[['Manufacturer', 'Model', 'Type', 'Min.Price', 'Max.Price']] = df[['Manufacturer', 'Model', 'Type', 'Min.Price', 'Max.Price']].fillna('missing')\n",
        "print(df_out.head())\n",
        "df.index = df.Manufacturer + '_' + df.Model + '_' + df.Type\n",
        "print(df.index.is_unique)"
      ],
      "metadata": {
        "colab": {
          "base_uri": "https://localhost:8080/"
        },
        "id": "2CCQmO8nGFmm",
        "outputId": "c7fed71c-d71d-42fb-a58b-ca4580295e8f"
      },
      "execution_count": null,
      "outputs": [
        {
          "output_type": "stream",
          "name": "stdout",
          "text": [
            "  Manufacturer    Model     Type Min.Price Max.Price\n",
            "0        Acura  Integra    Small      12.9      18.8\n",
            "1      missing   Legend  Midsize      29.2      38.7\n",
            "2         Audi       90  Compact      25.9      32.3\n",
            "3         Audi      100  Midsize   missing      44.6\n",
            "4          BMW     535i  Midsize   missing   missing\n",
            "True\n"
          ]
        }
      ]
    },
    {
      "cell_type": "markdown",
      "source": [
        "Задача 49"
      ],
      "metadata": {
        "id": "nAP5ClgL2UdK"
      }
    },
    {
      "cell_type": "code",
      "source": [
        "df = pd.DataFrame(np.random.randint(1, 30, 30).reshape(10,-1), columns=list('abc'))\n",
        "\n",
        "print(df)\n",
        "print(\"\\n\")\n",
        "print(df['a'].argsort())\n",
        "n = 5\n",
        "print(\"\\n\")\n",
        "df['a'].argsort()[::-1][n]"
      ],
      "metadata": {
        "colab": {
          "base_uri": "https://localhost:8080/"
        },
        "id": "mhC5ulnMGFxb",
        "outputId": "5cc94aa7-4930-468f-fc12-4fb17ca1c67d"
      },
      "execution_count": null,
      "outputs": [
        {
          "output_type": "stream",
          "name": "stdout",
          "text": [
            "    a   b   c\n",
            "0  22  12   2\n",
            "1  22  20  29\n",
            "2  15  25   6\n",
            "3   6   6  13\n",
            "4   9  23  14\n",
            "5  20  21  19\n",
            "6  18  16  17\n",
            "7   2  17  22\n",
            "8  17   5  21\n",
            "9  20   6  12\n",
            "\n",
            "\n",
            "0    7\n",
            "1    3\n",
            "2    4\n",
            "3    2\n",
            "4    8\n",
            "5    6\n",
            "6    5\n",
            "7    9\n",
            "8    0\n",
            "9    1\n",
            "Name: a, dtype: int64\n",
            "\n",
            "\n"
          ]
        },
        {
          "output_type": "execute_result",
          "data": {
            "text/plain": [
              "6"
            ]
          },
          "metadata": {},
          "execution_count": 51
        }
      ]
    },
    {
      "cell_type": "markdown",
      "source": [
        "Задача 50"
      ],
      "metadata": {
        "id": "j6SDhtSQ2VEK"
      }
    },
    {
      "cell_type": "code",
      "source": [
        "ser = pd.Series(np.random.randint(1, 100, 15))\n",
        "\n",
        "print('ser: ', ser.tolist(), 'mean: ', round(ser.mean()))\n",
        "ser_mean = np.mean(ser.values).round()\n",
        "greater_than_mean_arr = ser.where(ser > ser_mean).dropna().sort_values()\n",
        "row_second_largest_num = greater_than_mean_arr.index[1]\n",
        "row_second_largest_num"
      ],
      "metadata": {
        "colab": {
          "base_uri": "https://localhost:8080/"
        },
        "id": "qdEOJglAGGC2",
        "outputId": "0f6027d0-d909-481d-b45e-cf41bb9850ca"
      },
      "execution_count": null,
      "outputs": [
        {
          "output_type": "stream",
          "name": "stdout",
          "text": [
            "ser:  [82, 87, 49, 72, 85, 72, 15, 37, 8, 54, 74, 92, 5, 40, 64] mean:  56\n"
          ]
        },
        {
          "output_type": "execute_result",
          "data": {
            "text/plain": [
              "3"
            ]
          },
          "metadata": {},
          "execution_count": 52
        }
      ]
    },
    {
      "cell_type": "markdown",
      "source": [
        "Задача 51"
      ],
      "metadata": {
        "id": "8KA-MWCf2Vtr"
      }
    },
    {
      "cell_type": "code",
      "source": [
        "df = pd.DataFrame(np.random.randint(10, 40, 60).reshape(-1, 4))\n",
        "\n",
        "rowsums = df.apply(np.sum, axis=1).sort_values()\n",
        "print(rowsums)\n",
        "last_two_rows = df.iloc[np.where(rowsums > 100)[0][-2:], :]\n",
        "print(last_two_rows)\n"
      ],
      "metadata": {
        "colab": {
          "base_uri": "https://localhost:8080/"
        },
        "id": "1tmfJAwRGGYs",
        "outputId": "3e8c7990-2ac8-4777-a54d-a3febe97d96b"
      },
      "execution_count": null,
      "outputs": [
        {
          "output_type": "stream",
          "name": "stdout",
          "text": [
            "3      81\n",
            "9      83\n",
            "10     85\n",
            "6      86\n",
            "12     86\n",
            "     ... \n",
            "1     104\n",
            "14    108\n",
            "7     112\n",
            "4     126\n",
            "13    130\n",
            "Length: 15, dtype: int64\n",
            "     0   1   2   3\n",
            "13  31  33  39  27\n",
            "14  37  11  30  30\n"
          ]
        }
      ]
    },
    {
      "cell_type": "markdown",
      "source": [
        "Задача 52"
      ],
      "metadata": {
        "id": "rRFrMFR72WOv"
      }
    },
    {
      "cell_type": "code",
      "source": [
        "ser = pd.Series(np.logspace(-2, 2, 30))\n",
        "\n",
        "print(ser)\n",
        "print(\"\\n\")\n",
        "low_perc = ser.quantile(q=0.05)\n",
        "print(low_perc)\n",
        "high_perc = ser.quantile(q=0.95)\n",
        "print(high_perc)\n",
        "ser.where(ser > low_perc, other=low_perc, inplace=True)\n",
        "ser.where(ser < high_perc, other=high_perc, inplace=True)\n",
        "print(\"\\n\")\n",
        "print(ser)"
      ],
      "metadata": {
        "colab": {
          "base_uri": "https://localhost:8080/"
        },
        "id": "KC_JSQBpGGnH",
        "outputId": "3f2e6dbe-6250-449b-b164-37d59f82de70"
      },
      "execution_count": null,
      "outputs": [
        {
          "output_type": "stream",
          "name": "stdout",
          "text": [
            "0       0.010000\n",
            "1       0.013738\n",
            "2       0.018874\n",
            "3       0.025929\n",
            "4       0.035622\n",
            "         ...    \n",
            "25     28.072162\n",
            "26     38.566204\n",
            "27     52.983169\n",
            "28     72.789538\n",
            "29    100.000000\n",
            "Length: 30, dtype: float64\n",
            "\n",
            "\n",
            "0.016049294076965887\n",
            "63.87667222018393\n",
            "\n",
            "\n",
            "0      0.016049\n",
            "1      0.016049\n",
            "2      0.018874\n",
            "3      0.025929\n",
            "4      0.035622\n",
            "        ...    \n",
            "25    28.072162\n",
            "26    38.566204\n",
            "27    52.983169\n",
            "28    63.876672\n",
            "29    63.876672\n",
            "Length: 30, dtype: float64\n"
          ]
        }
      ]
    },
    {
      "cell_type": "markdown",
      "source": [
        "Задача 53"
      ],
      "metadata": {
        "id": "BdYPRicp2WxQ"
      }
    },
    {
      "cell_type": "code",
      "source": [
        "df = pd.DataFrame(np.random.randint(-20, 50, 100).reshape(10,-1))\n",
        "\n",
        "print(df)\n",
        "print(\"\\n\")\n",
        "arr = df[df > 0].values.flatten()\n",
        "pos_arr = arr[~np.isnan(arr)]\n",
        "n = int(np.floor(pos_arr.shape[0]**.5))\n",
        "top_indexes = np.argsort(pos_arr)[::-1]\n",
        "output = np.take(pos_arr, sorted(top_indexes[:n**2])).reshape(n, -1)\n",
        "print(output)"
      ],
      "metadata": {
        "colab": {
          "base_uri": "https://localhost:8080/"
        },
        "id": "c2u3Rg9JGG2e",
        "outputId": "bea70007-821f-45b8-d709-915ac1ae86a7"
      },
      "execution_count": null,
      "outputs": [
        {
          "output_type": "stream",
          "name": "stdout",
          "text": [
            "    0   1   2   3   4   5   6   7   8   9\n",
            "0   9 -12  32  48  15  22  37  24  29 -13\n",
            "1  19  33  -1  -4 -10 -20  45  19   4  33\n",
            "2  46  40  46  39  -4  45 -14  46  17  15\n",
            "3  44  35  15  30  17   0 -18   2   4   9\n",
            "4  33 -15  41  10 -16  45  23  48  13  31\n",
            "5  23   7 -11 -11  -4  43   1 -13  27  18\n",
            "6   4  14  -7  16  33  -6  34 -20  42  12\n",
            "7   4  10  33  20  16  29   1  26  10 -13\n",
            "8  39   8   3  34  44  12  12  15  14   7\n",
            "9  42  39  35  28  39  42  28  22 -14  24\n",
            "\n",
            "\n",
            "[[32. 48. 15. 22. 37. 24. 29. 19.]\n",
            " [33. 45. 19. 33. 46. 40. 46. 39.]\n",
            " [45. 46. 17. 15. 44. 35. 15. 30.]\n",
            " [17. 33. 41. 45. 23. 48. 13. 31.]\n",
            " [23. 43. 27. 18. 14. 16. 33. 34.]\n",
            " [42. 12. 33. 20. 16. 29. 26. 10.]\n",
            " [39. 34. 44. 12. 12. 15. 14. 42.]\n",
            " [39. 35. 28. 39. 42. 28. 22. 24.]]\n"
          ]
        }
      ]
    },
    {
      "cell_type": "markdown",
      "source": [
        "Задача 54"
      ],
      "metadata": {
        "id": "dfzutbkt2XcE"
      }
    },
    {
      "cell_type": "code",
      "source": [
        "df = pd.DataFrame(np.arange(25).reshape(5, -1))\n",
        "\n",
        "print(df)\n",
        "print(\"\\n\")\n",
        "def swap_rows(df, i1, i2):\n",
        "    a, b = df.iloc[i1, :].copy(), df.iloc[i2, :].copy()\n",
        "    df.iloc[i1, :], df.iloc[i2, :] = b, a\n",
        "    return df\n",
        "print(swap_rows(df, 1, 2))"
      ],
      "metadata": {
        "colab": {
          "base_uri": "https://localhost:8080/"
        },
        "id": "b7sOimZqGHHr",
        "outputId": "20f06b5d-d6d5-40d6-9424-aa7a566dd21f"
      },
      "execution_count": null,
      "outputs": [
        {
          "output_type": "stream",
          "name": "stdout",
          "text": [
            "    0   1   2   3   4\n",
            "0   0   1   2   3   4\n",
            "1   5   6   7   8   9\n",
            "2  10  11  12  13  14\n",
            "3  15  16  17  18  19\n",
            "4  20  21  22  23  24\n",
            "\n",
            "\n",
            "    0   1   2   3   4\n",
            "0   0   1   2   3   4\n",
            "1  10  11  12  13  14\n",
            "2   5   6   7   8   9\n",
            "3  15  16  17  18  19\n",
            "4  20  21  22  23  24\n"
          ]
        }
      ]
    },
    {
      "cell_type": "markdown",
      "source": [
        "Задача 55"
      ],
      "metadata": {
        "id": "SLW8-HY82X7i"
      }
    },
    {
      "cell_type": "code",
      "source": [
        "df = pd.DataFrame(np.arange(25).reshape(5, -1))\n",
        "\n",
        "print(df)\n",
        "print(\"\\n\")\n",
        "df.iloc[::-1]"
      ],
      "metadata": {
        "colab": {
          "base_uri": "https://localhost:8080/",
          "height": 345
        },
        "id": "jibbEehhGHeI",
        "outputId": "534234d5-4894-4b05-8d9a-d73ca845ea40"
      },
      "execution_count": null,
      "outputs": [
        {
          "output_type": "stream",
          "name": "stdout",
          "text": [
            "    0   1   2   3   4\n",
            "0   0   1   2   3   4\n",
            "1   5   6   7   8   9\n",
            "2  10  11  12  13  14\n",
            "3  15  16  17  18  19\n",
            "4  20  21  22  23  24\n",
            "\n",
            "\n"
          ]
        },
        {
          "output_type": "execute_result",
          "data": {
            "text/plain": [
              "    0   1   2   3   4\n",
              "4  20  21  22  23  24\n",
              "3  15  16  17  18  19\n",
              "2  10  11  12  13  14\n",
              "1   5   6   7   8   9\n",
              "0   0   1   2   3   4"
            ],
            "text/html": [
              "\n",
              "  <div id=\"df-82051de1-4048-4155-bca3-39643e8b7448\" class=\"colab-df-container\">\n",
              "    <div>\n",
              "<style scoped>\n",
              "    .dataframe tbody tr th:only-of-type {\n",
              "        vertical-align: middle;\n",
              "    }\n",
              "\n",
              "    .dataframe tbody tr th {\n",
              "        vertical-align: top;\n",
              "    }\n",
              "\n",
              "    .dataframe thead th {\n",
              "        text-align: right;\n",
              "    }\n",
              "</style>\n",
              "<table border=\"1\" class=\"dataframe\">\n",
              "  <thead>\n",
              "    <tr style=\"text-align: right;\">\n",
              "      <th></th>\n",
              "      <th>0</th>\n",
              "      <th>1</th>\n",
              "      <th>2</th>\n",
              "      <th>3</th>\n",
              "      <th>4</th>\n",
              "    </tr>\n",
              "  </thead>\n",
              "  <tbody>\n",
              "    <tr>\n",
              "      <th>4</th>\n",
              "      <td>20</td>\n",
              "      <td>21</td>\n",
              "      <td>22</td>\n",
              "      <td>23</td>\n",
              "      <td>24</td>\n",
              "    </tr>\n",
              "    <tr>\n",
              "      <th>3</th>\n",
              "      <td>15</td>\n",
              "      <td>16</td>\n",
              "      <td>17</td>\n",
              "      <td>18</td>\n",
              "      <td>19</td>\n",
              "    </tr>\n",
              "    <tr>\n",
              "      <th>2</th>\n",
              "      <td>10</td>\n",
              "      <td>11</td>\n",
              "      <td>12</td>\n",
              "      <td>13</td>\n",
              "      <td>14</td>\n",
              "    </tr>\n",
              "    <tr>\n",
              "      <th>1</th>\n",
              "      <td>5</td>\n",
              "      <td>6</td>\n",
              "      <td>7</td>\n",
              "      <td>8</td>\n",
              "      <td>9</td>\n",
              "    </tr>\n",
              "    <tr>\n",
              "      <th>0</th>\n",
              "      <td>0</td>\n",
              "      <td>1</td>\n",
              "      <td>2</td>\n",
              "      <td>3</td>\n",
              "      <td>4</td>\n",
              "    </tr>\n",
              "  </tbody>\n",
              "</table>\n",
              "</div>\n",
              "    <div class=\"colab-df-buttons\">\n",
              "\n",
              "  <div class=\"colab-df-container\">\n",
              "    <button class=\"colab-df-convert\" onclick=\"convertToInteractive('df-82051de1-4048-4155-bca3-39643e8b7448')\"\n",
              "            title=\"Convert this dataframe to an interactive table.\"\n",
              "            style=\"display:none;\">\n",
              "\n",
              "  <svg xmlns=\"http://www.w3.org/2000/svg\" height=\"24px\" viewBox=\"0 -960 960 960\">\n",
              "    <path d=\"M120-120v-720h720v720H120Zm60-500h600v-160H180v160Zm220 220h160v-160H400v160Zm0 220h160v-160H400v160ZM180-400h160v-160H180v160Zm440 0h160v-160H620v160ZM180-180h160v-160H180v160Zm440 0h160v-160H620v160Z\"/>\n",
              "  </svg>\n",
              "    </button>\n",
              "\n",
              "  <style>\n",
              "    .colab-df-container {\n",
              "      display:flex;\n",
              "      gap: 12px;\n",
              "    }\n",
              "\n",
              "    .colab-df-convert {\n",
              "      background-color: #E8F0FE;\n",
              "      border: none;\n",
              "      border-radius: 50%;\n",
              "      cursor: pointer;\n",
              "      display: none;\n",
              "      fill: #1967D2;\n",
              "      height: 32px;\n",
              "      padding: 0 0 0 0;\n",
              "      width: 32px;\n",
              "    }\n",
              "\n",
              "    .colab-df-convert:hover {\n",
              "      background-color: #E2EBFA;\n",
              "      box-shadow: 0px 1px 2px rgba(60, 64, 67, 0.3), 0px 1px 3px 1px rgba(60, 64, 67, 0.15);\n",
              "      fill: #174EA6;\n",
              "    }\n",
              "\n",
              "    .colab-df-buttons div {\n",
              "      margin-bottom: 4px;\n",
              "    }\n",
              "\n",
              "    [theme=dark] .colab-df-convert {\n",
              "      background-color: #3B4455;\n",
              "      fill: #D2E3FC;\n",
              "    }\n",
              "\n",
              "    [theme=dark] .colab-df-convert:hover {\n",
              "      background-color: #434B5C;\n",
              "      box-shadow: 0px 1px 3px 1px rgba(0, 0, 0, 0.15);\n",
              "      filter: drop-shadow(0px 1px 2px rgba(0, 0, 0, 0.3));\n",
              "      fill: #FFFFFF;\n",
              "    }\n",
              "  </style>\n",
              "\n",
              "    <script>\n",
              "      const buttonEl =\n",
              "        document.querySelector('#df-82051de1-4048-4155-bca3-39643e8b7448 button.colab-df-convert');\n",
              "      buttonEl.style.display =\n",
              "        google.colab.kernel.accessAllowed ? 'block' : 'none';\n",
              "\n",
              "      async function convertToInteractive(key) {\n",
              "        const element = document.querySelector('#df-82051de1-4048-4155-bca3-39643e8b7448');\n",
              "        const dataTable =\n",
              "          await google.colab.kernel.invokeFunction('convertToInteractive',\n",
              "                                                    [key], {});\n",
              "        if (!dataTable) return;\n",
              "\n",
              "        const docLinkHtml = 'Like what you see? Visit the ' +\n",
              "          '<a target=\"_blank\" href=https://colab.research.google.com/notebooks/data_table.ipynb>data table notebook</a>'\n",
              "          + ' to learn more about interactive tables.';\n",
              "        element.innerHTML = '';\n",
              "        dataTable['output_type'] = 'display_data';\n",
              "        await google.colab.output.renderOutput(dataTable, element);\n",
              "        const docLink = document.createElement('div');\n",
              "        docLink.innerHTML = docLinkHtml;\n",
              "        element.appendChild(docLink);\n",
              "      }\n",
              "    </script>\n",
              "  </div>\n",
              "\n",
              "\n",
              "<div id=\"df-5fb3acf8-11f2-43f4-aebe-b6e3ff066e79\">\n",
              "  <button class=\"colab-df-quickchart\" onclick=\"quickchart('df-5fb3acf8-11f2-43f4-aebe-b6e3ff066e79')\"\n",
              "            title=\"Suggest charts\"\n",
              "            style=\"display:none;\">\n",
              "\n",
              "<svg xmlns=\"http://www.w3.org/2000/svg\" height=\"24px\"viewBox=\"0 0 24 24\"\n",
              "     width=\"24px\">\n",
              "    <g>\n",
              "        <path d=\"M19 3H5c-1.1 0-2 .9-2 2v14c0 1.1.9 2 2 2h14c1.1 0 2-.9 2-2V5c0-1.1-.9-2-2-2zM9 17H7v-7h2v7zm4 0h-2V7h2v10zm4 0h-2v-4h2v4z\"/>\n",
              "    </g>\n",
              "</svg>\n",
              "  </button>\n",
              "\n",
              "<style>\n",
              "  .colab-df-quickchart {\n",
              "      --bg-color: #E8F0FE;\n",
              "      --fill-color: #1967D2;\n",
              "      --hover-bg-color: #E2EBFA;\n",
              "      --hover-fill-color: #174EA6;\n",
              "      --disabled-fill-color: #AAA;\n",
              "      --disabled-bg-color: #DDD;\n",
              "  }\n",
              "\n",
              "  [theme=dark] .colab-df-quickchart {\n",
              "      --bg-color: #3B4455;\n",
              "      --fill-color: #D2E3FC;\n",
              "      --hover-bg-color: #434B5C;\n",
              "      --hover-fill-color: #FFFFFF;\n",
              "      --disabled-bg-color: #3B4455;\n",
              "      --disabled-fill-color: #666;\n",
              "  }\n",
              "\n",
              "  .colab-df-quickchart {\n",
              "    background-color: var(--bg-color);\n",
              "    border: none;\n",
              "    border-radius: 50%;\n",
              "    cursor: pointer;\n",
              "    display: none;\n",
              "    fill: var(--fill-color);\n",
              "    height: 32px;\n",
              "    padding: 0;\n",
              "    width: 32px;\n",
              "  }\n",
              "\n",
              "  .colab-df-quickchart:hover {\n",
              "    background-color: var(--hover-bg-color);\n",
              "    box-shadow: 0 1px 2px rgba(60, 64, 67, 0.3), 0 1px 3px 1px rgba(60, 64, 67, 0.15);\n",
              "    fill: var(--button-hover-fill-color);\n",
              "  }\n",
              "\n",
              "  .colab-df-quickchart-complete:disabled,\n",
              "  .colab-df-quickchart-complete:disabled:hover {\n",
              "    background-color: var(--disabled-bg-color);\n",
              "    fill: var(--disabled-fill-color);\n",
              "    box-shadow: none;\n",
              "  }\n",
              "\n",
              "  .colab-df-spinner {\n",
              "    border: 2px solid var(--fill-color);\n",
              "    border-color: transparent;\n",
              "    border-bottom-color: var(--fill-color);\n",
              "    animation:\n",
              "      spin 1s steps(1) infinite;\n",
              "  }\n",
              "\n",
              "  @keyframes spin {\n",
              "    0% {\n",
              "      border-color: transparent;\n",
              "      border-bottom-color: var(--fill-color);\n",
              "      border-left-color: var(--fill-color);\n",
              "    }\n",
              "    20% {\n",
              "      border-color: transparent;\n",
              "      border-left-color: var(--fill-color);\n",
              "      border-top-color: var(--fill-color);\n",
              "    }\n",
              "    30% {\n",
              "      border-color: transparent;\n",
              "      border-left-color: var(--fill-color);\n",
              "      border-top-color: var(--fill-color);\n",
              "      border-right-color: var(--fill-color);\n",
              "    }\n",
              "    40% {\n",
              "      border-color: transparent;\n",
              "      border-right-color: var(--fill-color);\n",
              "      border-top-color: var(--fill-color);\n",
              "    }\n",
              "    60% {\n",
              "      border-color: transparent;\n",
              "      border-right-color: var(--fill-color);\n",
              "    }\n",
              "    80% {\n",
              "      border-color: transparent;\n",
              "      border-right-color: var(--fill-color);\n",
              "      border-bottom-color: var(--fill-color);\n",
              "    }\n",
              "    90% {\n",
              "      border-color: transparent;\n",
              "      border-bottom-color: var(--fill-color);\n",
              "    }\n",
              "  }\n",
              "</style>\n",
              "\n",
              "  <script>\n",
              "    async function quickchart(key) {\n",
              "      const quickchartButtonEl =\n",
              "        document.querySelector('#' + key + ' button');\n",
              "      quickchartButtonEl.disabled = true;  // To prevent multiple clicks.\n",
              "      quickchartButtonEl.classList.add('colab-df-spinner');\n",
              "      try {\n",
              "        const charts = await google.colab.kernel.invokeFunction(\n",
              "            'suggestCharts', [key], {});\n",
              "      } catch (error) {\n",
              "        console.error('Error during call to suggestCharts:', error);\n",
              "      }\n",
              "      quickchartButtonEl.classList.remove('colab-df-spinner');\n",
              "      quickchartButtonEl.classList.add('colab-df-quickchart-complete');\n",
              "    }\n",
              "    (() => {\n",
              "      let quickchartButtonEl =\n",
              "        document.querySelector('#df-5fb3acf8-11f2-43f4-aebe-b6e3ff066e79 button');\n",
              "      quickchartButtonEl.style.display =\n",
              "        google.colab.kernel.accessAllowed ? 'block' : 'none';\n",
              "    })();\n",
              "  </script>\n",
              "</div>\n",
              "    </div>\n",
              "  </div>\n"
            ]
          },
          "metadata": {},
          "execution_count": 57
        }
      ]
    },
    {
      "cell_type": "markdown",
      "source": [
        "Задача 56"
      ],
      "metadata": {
        "id": "eLXZmeWL2Yc8"
      }
    },
    {
      "cell_type": "code",
      "source": [
        "df = pd.DataFrame(np.arange(25).reshape(5,-1), columns=list('abcde'))\n",
        "\n",
        "print(df)\n",
        "print(\"\\n\")\n",
        "one_hot = pd.get_dummies(df[\"a\"])\n",
        "print(one_hot)\n",
        "print(\"\\n\")\n",
        "pd.concat([one_hot, df[[\"b\",\"c\",\"d\",\"e\"]]],axis=1)"
      ],
      "metadata": {
        "colab": {
          "base_uri": "https://localhost:8080/",
          "height": 484
        },
        "id": "9NnKS9p3GHoJ",
        "outputId": "b330f4e6-25a5-4a56-e129-6caabf172b9b"
      },
      "execution_count": null,
      "outputs": [
        {
          "output_type": "stream",
          "name": "stdout",
          "text": [
            "    a   b   c   d   e\n",
            "0   0   1   2   3   4\n",
            "1   5   6   7   8   9\n",
            "2  10  11  12  13  14\n",
            "3  15  16  17  18  19\n",
            "4  20  21  22  23  24\n",
            "\n",
            "\n",
            "   0   5   10  15  20\n",
            "0   1   0   0   0   0\n",
            "1   0   1   0   0   0\n",
            "2   0   0   1   0   0\n",
            "3   0   0   0   1   0\n",
            "4   0   0   0   0   1\n",
            "\n",
            "\n"
          ]
        },
        {
          "output_type": "execute_result",
          "data": {
            "text/plain": [
              "   0  5  10  15  20   b   c   d   e\n",
              "0  1  0   0   0   0   1   2   3   4\n",
              "1  0  1   0   0   0   6   7   8   9\n",
              "2  0  0   1   0   0  11  12  13  14\n",
              "3  0  0   0   1   0  16  17  18  19\n",
              "4  0  0   0   0   1  21  22  23  24"
            ],
            "text/html": [
              "\n",
              "  <div id=\"df-50bbebd3-e547-4861-901c-d68c876a2c3a\" class=\"colab-df-container\">\n",
              "    <div>\n",
              "<style scoped>\n",
              "    .dataframe tbody tr th:only-of-type {\n",
              "        vertical-align: middle;\n",
              "    }\n",
              "\n",
              "    .dataframe tbody tr th {\n",
              "        vertical-align: top;\n",
              "    }\n",
              "\n",
              "    .dataframe thead th {\n",
              "        text-align: right;\n",
              "    }\n",
              "</style>\n",
              "<table border=\"1\" class=\"dataframe\">\n",
              "  <thead>\n",
              "    <tr style=\"text-align: right;\">\n",
              "      <th></th>\n",
              "      <th>0</th>\n",
              "      <th>5</th>\n",
              "      <th>10</th>\n",
              "      <th>15</th>\n",
              "      <th>20</th>\n",
              "      <th>b</th>\n",
              "      <th>c</th>\n",
              "      <th>d</th>\n",
              "      <th>e</th>\n",
              "    </tr>\n",
              "  </thead>\n",
              "  <tbody>\n",
              "    <tr>\n",
              "      <th>0</th>\n",
              "      <td>1</td>\n",
              "      <td>0</td>\n",
              "      <td>0</td>\n",
              "      <td>0</td>\n",
              "      <td>0</td>\n",
              "      <td>1</td>\n",
              "      <td>2</td>\n",
              "      <td>3</td>\n",
              "      <td>4</td>\n",
              "    </tr>\n",
              "    <tr>\n",
              "      <th>1</th>\n",
              "      <td>0</td>\n",
              "      <td>1</td>\n",
              "      <td>0</td>\n",
              "      <td>0</td>\n",
              "      <td>0</td>\n",
              "      <td>6</td>\n",
              "      <td>7</td>\n",
              "      <td>8</td>\n",
              "      <td>9</td>\n",
              "    </tr>\n",
              "    <tr>\n",
              "      <th>2</th>\n",
              "      <td>0</td>\n",
              "      <td>0</td>\n",
              "      <td>1</td>\n",
              "      <td>0</td>\n",
              "      <td>0</td>\n",
              "      <td>11</td>\n",
              "      <td>12</td>\n",
              "      <td>13</td>\n",
              "      <td>14</td>\n",
              "    </tr>\n",
              "    <tr>\n",
              "      <th>3</th>\n",
              "      <td>0</td>\n",
              "      <td>0</td>\n",
              "      <td>0</td>\n",
              "      <td>1</td>\n",
              "      <td>0</td>\n",
              "      <td>16</td>\n",
              "      <td>17</td>\n",
              "      <td>18</td>\n",
              "      <td>19</td>\n",
              "    </tr>\n",
              "    <tr>\n",
              "      <th>4</th>\n",
              "      <td>0</td>\n",
              "      <td>0</td>\n",
              "      <td>0</td>\n",
              "      <td>0</td>\n",
              "      <td>1</td>\n",
              "      <td>21</td>\n",
              "      <td>22</td>\n",
              "      <td>23</td>\n",
              "      <td>24</td>\n",
              "    </tr>\n",
              "  </tbody>\n",
              "</table>\n",
              "</div>\n",
              "    <div class=\"colab-df-buttons\">\n",
              "\n",
              "  <div class=\"colab-df-container\">\n",
              "    <button class=\"colab-df-convert\" onclick=\"convertToInteractive('df-50bbebd3-e547-4861-901c-d68c876a2c3a')\"\n",
              "            title=\"Convert this dataframe to an interactive table.\"\n",
              "            style=\"display:none;\">\n",
              "\n",
              "  <svg xmlns=\"http://www.w3.org/2000/svg\" height=\"24px\" viewBox=\"0 -960 960 960\">\n",
              "    <path d=\"M120-120v-720h720v720H120Zm60-500h600v-160H180v160Zm220 220h160v-160H400v160Zm0 220h160v-160H400v160ZM180-400h160v-160H180v160Zm440 0h160v-160H620v160ZM180-180h160v-160H180v160Zm440 0h160v-160H620v160Z\"/>\n",
              "  </svg>\n",
              "    </button>\n",
              "\n",
              "  <style>\n",
              "    .colab-df-container {\n",
              "      display:flex;\n",
              "      gap: 12px;\n",
              "    }\n",
              "\n",
              "    .colab-df-convert {\n",
              "      background-color: #E8F0FE;\n",
              "      border: none;\n",
              "      border-radius: 50%;\n",
              "      cursor: pointer;\n",
              "      display: none;\n",
              "      fill: #1967D2;\n",
              "      height: 32px;\n",
              "      padding: 0 0 0 0;\n",
              "      width: 32px;\n",
              "    }\n",
              "\n",
              "    .colab-df-convert:hover {\n",
              "      background-color: #E2EBFA;\n",
              "      box-shadow: 0px 1px 2px rgba(60, 64, 67, 0.3), 0px 1px 3px 1px rgba(60, 64, 67, 0.15);\n",
              "      fill: #174EA6;\n",
              "    }\n",
              "\n",
              "    .colab-df-buttons div {\n",
              "      margin-bottom: 4px;\n",
              "    }\n",
              "\n",
              "    [theme=dark] .colab-df-convert {\n",
              "      background-color: #3B4455;\n",
              "      fill: #D2E3FC;\n",
              "    }\n",
              "\n",
              "    [theme=dark] .colab-df-convert:hover {\n",
              "      background-color: #434B5C;\n",
              "      box-shadow: 0px 1px 3px 1px rgba(0, 0, 0, 0.15);\n",
              "      filter: drop-shadow(0px 1px 2px rgba(0, 0, 0, 0.3));\n",
              "      fill: #FFFFFF;\n",
              "    }\n",
              "  </style>\n",
              "\n",
              "    <script>\n",
              "      const buttonEl =\n",
              "        document.querySelector('#df-50bbebd3-e547-4861-901c-d68c876a2c3a button.colab-df-convert');\n",
              "      buttonEl.style.display =\n",
              "        google.colab.kernel.accessAllowed ? 'block' : 'none';\n",
              "\n",
              "      async function convertToInteractive(key) {\n",
              "        const element = document.querySelector('#df-50bbebd3-e547-4861-901c-d68c876a2c3a');\n",
              "        const dataTable =\n",
              "          await google.colab.kernel.invokeFunction('convertToInteractive',\n",
              "                                                    [key], {});\n",
              "        if (!dataTable) return;\n",
              "\n",
              "        const docLinkHtml = 'Like what you see? Visit the ' +\n",
              "          '<a target=\"_blank\" href=https://colab.research.google.com/notebooks/data_table.ipynb>data table notebook</a>'\n",
              "          + ' to learn more about interactive tables.';\n",
              "        element.innerHTML = '';\n",
              "        dataTable['output_type'] = 'display_data';\n",
              "        await google.colab.output.renderOutput(dataTable, element);\n",
              "        const docLink = document.createElement('div');\n",
              "        docLink.innerHTML = docLinkHtml;\n",
              "        element.appendChild(docLink);\n",
              "      }\n",
              "    </script>\n",
              "  </div>\n",
              "\n",
              "\n",
              "<div id=\"df-bf2f13b3-ad07-4212-ac91-14a60ce76530\">\n",
              "  <button class=\"colab-df-quickchart\" onclick=\"quickchart('df-bf2f13b3-ad07-4212-ac91-14a60ce76530')\"\n",
              "            title=\"Suggest charts\"\n",
              "            style=\"display:none;\">\n",
              "\n",
              "<svg xmlns=\"http://www.w3.org/2000/svg\" height=\"24px\"viewBox=\"0 0 24 24\"\n",
              "     width=\"24px\">\n",
              "    <g>\n",
              "        <path d=\"M19 3H5c-1.1 0-2 .9-2 2v14c0 1.1.9 2 2 2h14c1.1 0 2-.9 2-2V5c0-1.1-.9-2-2-2zM9 17H7v-7h2v7zm4 0h-2V7h2v10zm4 0h-2v-4h2v4z\"/>\n",
              "    </g>\n",
              "</svg>\n",
              "  </button>\n",
              "\n",
              "<style>\n",
              "  .colab-df-quickchart {\n",
              "      --bg-color: #E8F0FE;\n",
              "      --fill-color: #1967D2;\n",
              "      --hover-bg-color: #E2EBFA;\n",
              "      --hover-fill-color: #174EA6;\n",
              "      --disabled-fill-color: #AAA;\n",
              "      --disabled-bg-color: #DDD;\n",
              "  }\n",
              "\n",
              "  [theme=dark] .colab-df-quickchart {\n",
              "      --bg-color: #3B4455;\n",
              "      --fill-color: #D2E3FC;\n",
              "      --hover-bg-color: #434B5C;\n",
              "      --hover-fill-color: #FFFFFF;\n",
              "      --disabled-bg-color: #3B4455;\n",
              "      --disabled-fill-color: #666;\n",
              "  }\n",
              "\n",
              "  .colab-df-quickchart {\n",
              "    background-color: var(--bg-color);\n",
              "    border: none;\n",
              "    border-radius: 50%;\n",
              "    cursor: pointer;\n",
              "    display: none;\n",
              "    fill: var(--fill-color);\n",
              "    height: 32px;\n",
              "    padding: 0;\n",
              "    width: 32px;\n",
              "  }\n",
              "\n",
              "  .colab-df-quickchart:hover {\n",
              "    background-color: var(--hover-bg-color);\n",
              "    box-shadow: 0 1px 2px rgba(60, 64, 67, 0.3), 0 1px 3px 1px rgba(60, 64, 67, 0.15);\n",
              "    fill: var(--button-hover-fill-color);\n",
              "  }\n",
              "\n",
              "  .colab-df-quickchart-complete:disabled,\n",
              "  .colab-df-quickchart-complete:disabled:hover {\n",
              "    background-color: var(--disabled-bg-color);\n",
              "    fill: var(--disabled-fill-color);\n",
              "    box-shadow: none;\n",
              "  }\n",
              "\n",
              "  .colab-df-spinner {\n",
              "    border: 2px solid var(--fill-color);\n",
              "    border-color: transparent;\n",
              "    border-bottom-color: var(--fill-color);\n",
              "    animation:\n",
              "      spin 1s steps(1) infinite;\n",
              "  }\n",
              "\n",
              "  @keyframes spin {\n",
              "    0% {\n",
              "      border-color: transparent;\n",
              "      border-bottom-color: var(--fill-color);\n",
              "      border-left-color: var(--fill-color);\n",
              "    }\n",
              "    20% {\n",
              "      border-color: transparent;\n",
              "      border-left-color: var(--fill-color);\n",
              "      border-top-color: var(--fill-color);\n",
              "    }\n",
              "    30% {\n",
              "      border-color: transparent;\n",
              "      border-left-color: var(--fill-color);\n",
              "      border-top-color: var(--fill-color);\n",
              "      border-right-color: var(--fill-color);\n",
              "    }\n",
              "    40% {\n",
              "      border-color: transparent;\n",
              "      border-right-color: var(--fill-color);\n",
              "      border-top-color: var(--fill-color);\n",
              "    }\n",
              "    60% {\n",
              "      border-color: transparent;\n",
              "      border-right-color: var(--fill-color);\n",
              "    }\n",
              "    80% {\n",
              "      border-color: transparent;\n",
              "      border-right-color: var(--fill-color);\n",
              "      border-bottom-color: var(--fill-color);\n",
              "    }\n",
              "    90% {\n",
              "      border-color: transparent;\n",
              "      border-bottom-color: var(--fill-color);\n",
              "    }\n",
              "  }\n",
              "</style>\n",
              "\n",
              "  <script>\n",
              "    async function quickchart(key) {\n",
              "      const quickchartButtonEl =\n",
              "        document.querySelector('#' + key + ' button');\n",
              "      quickchartButtonEl.disabled = true;  // To prevent multiple clicks.\n",
              "      quickchartButtonEl.classList.add('colab-df-spinner');\n",
              "      try {\n",
              "        const charts = await google.colab.kernel.invokeFunction(\n",
              "            'suggestCharts', [key], {});\n",
              "      } catch (error) {\n",
              "        console.error('Error during call to suggestCharts:', error);\n",
              "      }\n",
              "      quickchartButtonEl.classList.remove('colab-df-spinner');\n",
              "      quickchartButtonEl.classList.add('colab-df-quickchart-complete');\n",
              "    }\n",
              "    (() => {\n",
              "      let quickchartButtonEl =\n",
              "        document.querySelector('#df-bf2f13b3-ad07-4212-ac91-14a60ce76530 button');\n",
              "      quickchartButtonEl.style.display =\n",
              "        google.colab.kernel.accessAllowed ? 'block' : 'none';\n",
              "    })();\n",
              "  </script>\n",
              "</div>\n",
              "    </div>\n",
              "  </div>\n"
            ]
          },
          "metadata": {},
          "execution_count": 58
        }
      ]
    },
    {
      "cell_type": "markdown",
      "source": [
        "Задача 57"
      ],
      "metadata": {
        "id": "unkCOrT52Y_D"
      }
    },
    {
      "cell_type": "code",
      "source": [
        "df = pd.DataFrame(np.random.randint(1,100, 40).reshape(10, -1))\n",
        "\n",
        "print(df)\n",
        "print(\"\\n\")\n",
        "row_high_num = df.sum(axis=0).argmax()\n",
        "print(row_high_num)"
      ],
      "metadata": {
        "colab": {
          "base_uri": "https://localhost:8080/"
        },
        "id": "m1MK1jMFGHzI",
        "outputId": "1b14ba4a-05d4-4164-fa57-6620a7595c5e"
      },
      "execution_count": null,
      "outputs": [
        {
          "output_type": "stream",
          "name": "stdout",
          "text": [
            "    0   1   2   3\n",
            "0  37  81  20  64\n",
            "1  17  82  18  20\n",
            "2  56  94  42  99\n",
            "3  22  53  27  70\n",
            "4  82  43  99  75\n",
            "5  81  84  99  40\n",
            "6  31  57  27   5\n",
            "7  41  71   2  20\n",
            "8   1  13  87  59\n",
            "9  25  76  48  59\n",
            "\n",
            "\n",
            "1\n"
          ]
        }
      ]
    },
    {
      "cell_type": "markdown",
      "source": [
        "Задача 58"
      ],
      "metadata": {
        "id": "cSdILlok2ZeD"
      }
    },
    {
      "cell_type": "code",
      "source": [
        "df = pd.DataFrame(np.random.randint(1,100, 40).reshape(10, -1), columns=list('pqrs'), index=list('abcdefghij'))\n",
        "\n",
        "print(df)\n",
        "print(\"\\n\")\n",
        "from sklearn.neighbors import NearestNeighbors\n",
        "nbrs = NearestNeighbors(n_neighbors=2, algorithm='ball_tree').fit(df)\n",
        "distances, indices = nbrs.kneighbors(df)\n",
        "df.insert(4,\"nearest row\",df.index[indices[:,1]],True)\n",
        "df.insert(5,\"distances\", distances[:,1],True)\n",
        "print(df.index[indices[:,1]])"
      ],
      "metadata": {
        "colab": {
          "base_uri": "https://localhost:8080/"
        },
        "id": "GEo6q5XOGH_p",
        "outputId": "1c93dc58-db77-4a02-f832-4b98f7dc32f6"
      },
      "execution_count": null,
      "outputs": [
        {
          "output_type": "stream",
          "name": "stdout",
          "text": [
            "    p   q   r   s\n",
            "a  59  81  53  42\n",
            "b  71  99  41  65\n",
            "c   5  45  50  54\n",
            "d  82  62  33  87\n",
            "e  61  29  96  26\n",
            "f  65  81  72  97\n",
            "g  59  43  65  52\n",
            "h  47  76  93   9\n",
            "i  29  53  79  85\n",
            "j  44   2  88  61\n",
            "\n",
            "\n",
            "Index(['b', 'a', 'i', 'b', 'g', 'd', 'a', 'e', 'f', 'e'], dtype='object')\n"
          ]
        }
      ]
    },
    {
      "cell_type": "markdown",
      "source": [
        "Задача 59"
      ],
      "metadata": {
        "id": "NurCoQGI2Z0Q"
      }
    },
    {
      "cell_type": "code",
      "source": [
        "df = pd.DataFrame(np.random.randint(1,100, 80).reshape(8, -1), columns=list('pqrstuvwxy'), index=list('abcdefgh'))\n",
        "\n",
        "print(df)\n",
        "print(\"\\n\")\n",
        "abs_corrmat = np.abs(df.corr())\n",
        "max_corr = abs_corrmat.apply(lambda x: sorted(x)[-2])\n",
        "print('Макс. корреляция каждого столбца: ', np.round(max_corr.tolist(), 2))"
      ],
      "metadata": {
        "colab": {
          "base_uri": "https://localhost:8080/"
        },
        "id": "2Ji9YDFYGISX",
        "outputId": "4725a134-ac4e-4a20-f730-f7af539a8370"
      },
      "execution_count": null,
      "outputs": [
        {
          "output_type": "stream",
          "name": "stdout",
          "text": [
            "    p   q   r   s   t   u   v   w   x   y\n",
            "a  46  42  72  66  56  41  35  42   1  75\n",
            "b  83  43  66  67  82   2  28   7  22  87\n",
            "c  73  20  97  35  91  31  93  45  50  82\n",
            "d  61  25  45  58  44  92  70  74  95   3\n",
            "e  62  38  80   7  56  16  44  87  29  39\n",
            "f  61  11  70  81  95   8  23  45  89  70\n",
            "g  69  65  58  28  90  56  37  92  77  48\n",
            "h  35  69  52  87  38   9  56  44  43  38\n",
            "\n",
            "\n",
            "Макс. корреляция каждого столбца:  [0.7  0.44 0.66 0.66 0.7  0.63 0.39 0.67 0.5  0.67]\n"
          ]
        }
      ]
    },
    {
      "cell_type": "markdown",
      "source": [
        "Задача 60"
      ],
      "metadata": {
        "id": "v8YxzRnD2ahK"
      }
    },
    {
      "cell_type": "code",
      "source": [
        "df = pd.DataFrame(np.random.randint(1,100, 80).reshape(8, -1))\n",
        "\n",
        "print(df)\n",
        "print(\"\\n\")\n",
        "min_by_max = df.apply(lambda x: np.min(x)/np.max(x), axis=1)\n",
        "print(min_by_max)"
      ],
      "metadata": {
        "colab": {
          "base_uri": "https://localhost:8080/"
        },
        "id": "4VwZ5SAMGIbm",
        "outputId": "93261556-cc9b-4dac-e0e3-f3b638861b0a"
      },
      "execution_count": null,
      "outputs": [
        {
          "output_type": "stream",
          "name": "stdout",
          "text": [
            "    0   1   2   3   4   5   6   7   8   9\n",
            "0  27  76  75  56   5  81  39   9  53  78\n",
            "1  10  98  82   6  48  49  57  10  42  22\n",
            "2  62  19  73   8  79  13  79   7  59  77\n",
            "3  40  16   5  70  70  21  97  83  38  39\n",
            "4  84  68  33   2  99  33  11  79  44  25\n",
            "5  77  87  71  48  57  76  12   2  35  36\n",
            "6   4  90  44  55  21  93  76  10  98   4\n",
            "7  92   7   8  38  57  72  23  86  71  71\n",
            "\n",
            "\n",
            "0    0.061728\n",
            "1    0.061224\n",
            "2    0.088608\n",
            "3    0.051546\n",
            "4    0.020202\n",
            "5    0.022989\n",
            "6    0.040816\n",
            "7    0.076087\n",
            "dtype: float64\n"
          ]
        }
      ]
    },
    {
      "cell_type": "markdown",
      "source": [
        "Задача 61"
      ],
      "metadata": {
        "id": "rAv4FOeu2a9W"
      }
    },
    {
      "cell_type": "code",
      "source": [
        "df = pd.DataFrame(np.random.randint(1,100, 80).reshape(8, -1))\n",
        "\n",
        "print(df)\n",
        "print(\"\\n\")\n",
        "out = df.apply(lambda x: x.sort_values().unique()[-2], axis=1)\n",
        "df['penultimate'] = out\n",
        "print(df)"
      ],
      "metadata": {
        "colab": {
          "base_uri": "https://localhost:8080/"
        },
        "id": "u0xETi08GIk2",
        "outputId": "f9f7df4d-53b7-4d6f-8134-67a0680fc7e1"
      },
      "execution_count": null,
      "outputs": [
        {
          "output_type": "stream",
          "name": "stdout",
          "text": [
            "    0   1   2   3   4   5   6   7   8   9\n",
            "0  95  93  20  89  34  69  35  62  79  11\n",
            "1  11  74  38  33  12  71  79  81  41  11\n",
            "2  14  80  89  89  81  14  48  25  36  25\n",
            "3  82  18  10  20  50  50  15  50  96   8\n",
            "4  60   3  61  48  70  75  62  89  89  61\n",
            "5  24  12  92  82  94  51  90  45  20  98\n",
            "6   4  44  16  32  32  70  84  35  83  29\n",
            "7  10  55  70  59  40  10  59  30  43  74\n",
            "\n",
            "\n",
            "    0   1   2   3   4  ...   6   7   8   9  penultimate\n",
            "0  95  93  20  89  34  ...  35  62  79  11           93\n",
            "1  11  74  38  33  12  ...  79  81  41  11           79\n",
            "2  14  80  89  89  81  ...  48  25  36  25           81\n",
            "3  82  18  10  20  50  ...  15  50  96   8           82\n",
            "4  60   3  61  48  70  ...  62  89  89  61           75\n",
            "5  24  12  92  82  94  ...  90  45  20  98           94\n",
            "6   4  44  16  32  32  ...  84  35  83  29           83\n",
            "7  10  55  70  59  40  ...  59  30  43  74           70\n",
            "\n",
            "[8 rows x 11 columns]\n"
          ]
        }
      ]
    },
    {
      "cell_type": "markdown",
      "source": [
        "Задача 62"
      ],
      "metadata": {
        "id": "XiDFUrw92cnX"
      }
    },
    {
      "cell_type": "code",
      "source": [
        "df = pd.DataFrame(np.random.randint(1,100, 80).reshape(8, -1))\n",
        "\n",
        "print(df)\n",
        "print(\"\\n\")\n",
        "out1 = df.apply(lambda x: ((x - x.mean())/x.std()).round(2))\n",
        "print('№1\\n',out1)\n",
        "out2 = df.apply(lambda x: ((x.max() - x)/(x.max() - x.min())).round(2))\n",
        "print('№2\\n', out2)"
      ],
      "metadata": {
        "colab": {
          "base_uri": "https://localhost:8080/"
        },
        "id": "PKbXDMUTGIyV",
        "outputId": "2cd6d9d0-9423-44fa-ef80-78fab16a151d"
      },
      "execution_count": null,
      "outputs": [
        {
          "output_type": "stream",
          "name": "stdout",
          "text": [
            "    0   1   2   3   4   5   6   7   8   9\n",
            "0  83  53  79  26  58  69  34   5  57  58\n",
            "1  78  97  42  32  13  38  95  31  58   8\n",
            "2  35  43  79  87  38  64  87  47  52  49\n",
            "3  79   5  94  40  88  70  84  23  60  92\n",
            "4  58   5  51  74  37  68  27  56  42  22\n",
            "5  72  37  42  89  24  28  18  33  61  85\n",
            "6  53  70  70  60  15  78  64  51  33  18\n",
            "7  66  72  14  66  31  86  28  48  72  50\n",
            "\n",
            "\n",
            "№1\n",
            "       0     1     2     3     4     5     6     7     8     9\n",
            "0  1.08  0.16  0.77 -1.37  0.81  0.32 -0.66 -1.86  0.22  0.33\n",
            "1  0.77  1.52 -0.64 -1.12 -1.01 -1.25  1.29 -0.34  0.30 -1.30\n",
            "2 -1.89 -0.15  0.77  1.14  0.00  0.07  1.03  0.60 -0.20  0.04\n",
            "3  0.83 -1.32  1.34 -0.79  2.02  0.37  0.94 -0.80  0.47  1.44\n",
            "4 -0.46 -1.32 -0.30  0.61 -0.04  0.27 -0.88  1.13 -1.02 -0.84\n",
            "5  0.40 -0.33 -0.64  1.22 -0.56 -1.76 -1.17 -0.22  0.55  1.21\n",
            "6 -0.77  0.69  0.42  0.03 -0.93  0.78  0.30  0.83 -1.77 -0.97\n",
            "7  0.03  0.75 -1.71  0.28 -0.28  1.19 -0.85  0.66  1.46  0.07\n",
            "№2\n",
            "       0     1     2     3     4     5     6     7     8     9\n",
            "0  0.00  0.48  0.19  1.00  0.40  0.29  0.79  1.00  0.38  0.40\n",
            "1  0.10  0.00  0.65  0.90  1.00  0.83  0.00  0.49  0.36  1.00\n",
            "2  1.00  0.59  0.19  0.03  0.67  0.38  0.10  0.18  0.51  0.51\n",
            "3  0.08  1.00  0.00  0.78  0.00  0.28  0.14  0.65  0.31  0.00\n",
            "4  0.52  1.00  0.54  0.24  0.68  0.31  0.88  0.00  0.77  0.83\n",
            "5  0.23  0.65  0.65  0.00  0.85  1.00  1.00  0.45  0.28  0.08\n",
            "6  0.62  0.29  0.30  0.46  0.97  0.14  0.40  0.10  1.00  0.88\n",
            "7  0.35  0.27  1.00  0.37  0.76  0.00  0.87  0.16  0.00  0.50\n"
          ]
        }
      ]
    },
    {
      "cell_type": "markdown",
      "source": [
        "Задача 63"
      ],
      "metadata": {
        "id": "1dPX1eaf2dEl"
      }
    },
    {
      "cell_type": "code",
      "source": [
        "df = pd.DataFrame(np.random.randint(1,100, 80).reshape(8, -1))\n",
        "\n",
        "print(df)\n",
        "print(\"\\n\")\n",
        "print([df.iloc[i].corr(df.iloc[i+1]).round(2) for i in range(df.shape[0])[:-1]])"
      ],
      "metadata": {
        "colab": {
          "base_uri": "https://localhost:8080/"
        },
        "id": "4ZA3o_kWGI9T",
        "outputId": "f63b02da-64ff-4425-f7e8-09ea3654e460"
      },
      "execution_count": null,
      "outputs": [
        {
          "output_type": "stream",
          "name": "stdout",
          "text": [
            "    0   1   2   3   4   5   6   7   8   9\n",
            "0  22  50  20  86   4  78  74  33  41  81\n",
            "1  32  26  83  43  34  30  22  24  70  48\n",
            "2  50  32  24   9  41   9  31  60  51  94\n",
            "3  33   5  84  27  56  72  71  83  23   1\n",
            "4  70  53  51  44   2  46  97  52  43   6\n",
            "5  39  93   1  60  63  53   4  49  26  57\n",
            "6  50  92  78  89  40  73  77  53  30  54\n",
            "7  66  63  23  45  50  19  20  39  69  42\n",
            "\n",
            "\n",
            "[-0.21, 0.03, -0.38, 0.33, -0.48, 0.15, -0.42]\n"
          ]
        }
      ]
    },
    {
      "cell_type": "markdown",
      "source": [
        "Задача 64"
      ],
      "metadata": {
        "id": "imiQFmL02eJL"
      }
    },
    {
      "cell_type": "code",
      "source": [
        "df = pd.DataFrame(np.random.randint(1,100, 100).reshape(10, -1))\n",
        "\n",
        "print(df)\n",
        "print(\"\\n\")\n",
        "for i in range(df.shape[0]):\n",
        "    df.iat[i, i] = 0\n",
        "    df.iat[df.shape[0]-i-1, i] = 0\n",
        "print(df)"
      ],
      "metadata": {
        "colab": {
          "base_uri": "https://localhost:8080/"
        },
        "id": "n0sLzw57Gg0Z",
        "outputId": "709e3920-4b23-44c0-b5df-630c7a9c8142"
      },
      "execution_count": null,
      "outputs": [
        {
          "output_type": "stream",
          "name": "stdout",
          "text": [
            "    0   1   2   3   4   5   6   7   8   9\n",
            "0  31  62  27  47  25  14  26  26   1  55\n",
            "1  54   2  75  86  48  22  10   7  83  48\n",
            "2  22   7  33  89  80  28  71  59  49  33\n",
            "3  17  37  29  80  76  43  18  55  55  22\n",
            "4  92  10  62  19  94  25  30  33  97   6\n",
            "5  51  21  51  41  95  72  91  68  59  17\n",
            "6  34  91  80  79   5  38  60  76  75  97\n",
            "7  57  59  79  87  12  93  36  69  54  73\n",
            "8  40  96   9  87   2  30  59  46  28  85\n",
            "9  65  85  89  49  62  70  97   5  80   5\n",
            "\n",
            "\n",
            "    0   1   2   3   4   5   6   7   8   9\n",
            "0   0  62  27  47  25  14  26  26   1   0\n",
            "1  54   0  75  86  48  22  10   7   0  48\n",
            "2  22   7   0  89  80  28  71   0  49  33\n",
            "3  17  37  29   0  76  43   0  55  55  22\n",
            "4  92  10  62  19   0   0  30  33  97   6\n",
            "5  51  21  51  41   0   0  91  68  59  17\n",
            "6  34  91  80   0   5  38   0  76  75  97\n",
            "7  57  59   0  87  12  93  36   0  54  73\n",
            "8  40   0   9  87   2  30  59  46   0  85\n",
            "9   0  85  89  49  62  70  97   5  80   0\n"
          ]
        }
      ]
    },
    {
      "cell_type": "markdown",
      "source": [
        "Задача 65"
      ],
      "metadata": {
        "id": "WxQbE25V2ej7"
      }
    },
    {
      "cell_type": "code",
      "source": [
        "df = pd.DataFrame({'col1': ['apple', 'banana', 'orange'] * 3,\n",
        "                   'col2': np.random.rand(9),\n",
        "                   'col3': np.random.randint(0, 15, 9)})\n",
        "\n",
        "print(df)\n",
        "print(\"\\n\")\n",
        "df_grouped = df.groupby(['col1'])\n",
        "df_grouped.get_group('apple')\n",
        "for i, dff in df_grouped:\n",
        "    if i == 'apple':\n",
        "        print(dff)\n"
      ],
      "metadata": {
        "colab": {
          "base_uri": "https://localhost:8080/"
        },
        "id": "yYZxQEXjGhC1",
        "outputId": "0a0eb809-d23a-4297-8fb2-29da614971d8"
      },
      "execution_count": null,
      "outputs": [
        {
          "output_type": "stream",
          "name": "stdout",
          "text": [
            "     col1      col2  col3\n",
            "0   apple  0.527159     6\n",
            "1  banana  0.942934     5\n",
            "2  orange  0.723250    10\n",
            "3   apple  0.553954    12\n",
            "4  banana  0.563323    11\n",
            "5  orange  0.925764    11\n",
            "6   apple  0.037012    11\n",
            "7  banana  0.511491    13\n",
            "8  orange  0.694102    12\n",
            "\n",
            "\n",
            "    col1      col2  col3\n",
            "0  apple  0.527159     6\n",
            "3  apple  0.553954    12\n",
            "6  apple  0.037012    11\n"
          ]
        },
        {
          "output_type": "stream",
          "name": "stderr",
          "text": [
            "<ipython-input-67-8b40a11c707d>:9: FutureWarning: In a future version of pandas, a length 1 tuple will be returned when iterating over a groupby with a grouper equal to a list of length 1. Don't supply a list with a single grouper to avoid this warning.\n",
            "  for i, dff in df_grouped:\n"
          ]
        }
      ]
    },
    {
      "cell_type": "markdown",
      "source": [
        "Задача 66"
      ],
      "metadata": {
        "id": "L-fIW2fH2fHN"
      }
    },
    {
      "cell_type": "code",
      "source": [
        "df = pd.DataFrame({'fruit': ['apple', 'banana', 'orange'] * 3,\n",
        "                   'taste': np.random.rand(9),\n",
        "                   'price': np.random.randint(0, 15, 9)})\n",
        "\n",
        "print(df)\n",
        "print(\"\\n\")\n",
        "df_grpd = df['taste'].groupby(df.fruit)\n",
        "df_grpd.get_group('banana').sort_values().iloc[-2]"
      ],
      "metadata": {
        "colab": {
          "base_uri": "https://localhost:8080/"
        },
        "id": "nxUPgaamGhXI",
        "outputId": "1108dde8-78aa-4818-f626-2721699e3b53"
      },
      "execution_count": null,
      "outputs": [
        {
          "output_type": "stream",
          "name": "stdout",
          "text": [
            "    fruit     taste  price\n",
            "0   apple  0.526519      7\n",
            "1  banana  0.010378      5\n",
            "2  orange  0.786067      9\n",
            "3   apple  0.130704     10\n",
            "4  banana  0.484881      5\n",
            "5  orange  0.539761      9\n",
            "6   apple  0.370781      1\n",
            "7  banana  0.514121      3\n",
            "8  orange  0.121514     13\n",
            "\n",
            "\n"
          ]
        },
        {
          "output_type": "execute_result",
          "data": {
            "text/plain": [
              "0.48488063730888376"
            ]
          },
          "metadata": {},
          "execution_count": 68
        }
      ]
    },
    {
      "cell_type": "markdown",
      "source": [
        "Задача 67"
      ],
      "metadata": {
        "id": "uW0Gxoqy2feI"
      }
    },
    {
      "cell_type": "code",
      "source": [
        "df = pd.DataFrame({'fruit': ['apple', 'banana', 'orange'] * 3,\n",
        "                   'rating': np.random.rand(9),\n",
        "                   'price': np.random.randint(0, 15, 9)})\n",
        "\n",
        "print(df)\n",
        "print(\"\\n\")\n",
        "out = df.groupby('fruit', as_index=False)['price'].mean()\n",
        "print(out)"
      ],
      "metadata": {
        "colab": {
          "base_uri": "https://localhost:8080/"
        },
        "id": "6HH1yd0DGhom",
        "outputId": "24fe4b17-37f8-4dfc-da35-fb750f28a8e1"
      },
      "execution_count": null,
      "outputs": [
        {
          "output_type": "stream",
          "name": "stdout",
          "text": [
            "    fruit    rating  price\n",
            "0   apple  0.062974     13\n",
            "1  banana  0.122478     13\n",
            "2  orange  0.136631      6\n",
            "3   apple  0.187832     14\n",
            "4  banana  0.121842      9\n",
            "5  orange  0.452950      4\n",
            "6   apple  0.659701     14\n",
            "7  banana  0.866376      3\n",
            "8  orange  0.536028     14\n",
            "\n",
            "\n",
            "    fruit      price\n",
            "0   apple  13.666667\n",
            "1  banana   8.333333\n",
            "2  orange   8.000000\n"
          ]
        }
      ]
    },
    {
      "cell_type": "markdown",
      "source": [
        "Задача 68"
      ],
      "metadata": {
        "id": "0JuMMir22f3j"
      }
    },
    {
      "cell_type": "code",
      "source": [
        "df1 = pd.DataFrame({'fruit': ['apple', 'banana', 'orange'] * 3,\n",
        "                    'weight': ['high', 'medium', 'low'] * 3,\n",
        "                    'price': np.random.randint(0, 15, 9)})\n",
        "\n",
        "df2 = pd.DataFrame({'pazham': ['apple', 'orange', 'pine'] * 2,\n",
        "                    'kilo': ['high', 'low'] * 3,\n",
        "                    'price': np.random.randint(0, 15, 6)})\n",
        "\n",
        "print(df1)\n",
        "print(\"\\n\")\n",
        "print(df2)\n",
        "print(\"\\n\")\n",
        "pd.merge(df1, df2, how='inner', left_on=['fruit', 'weight'], right_on=['pazham', 'kilo'], suffixes=['_left', '_right'])"
      ],
      "metadata": {
        "colab": {
          "base_uri": "https://localhost:8080/",
          "height": 602
        },
        "id": "eJI-oXUpGh3E",
        "outputId": "9713dca3-c44d-4367-a1e8-e5c94881cea2"
      },
      "execution_count": null,
      "outputs": [
        {
          "output_type": "stream",
          "name": "stdout",
          "text": [
            "    fruit  weight  price\n",
            "0   apple    high      0\n",
            "1  banana  medium      6\n",
            "2  orange     low      4\n",
            "3   apple    high      7\n",
            "4  banana  medium      4\n",
            "5  orange     low     14\n",
            "6   apple    high      4\n",
            "7  banana  medium      9\n",
            "8  orange     low      1\n",
            "\n",
            "\n",
            "   pazham  kilo  price\n",
            "0   apple  high      4\n",
            "1  orange   low      9\n",
            "2    pine  high      9\n",
            "3   apple   low      0\n",
            "4  orange  high      0\n",
            "5    pine   low     10\n",
            "\n",
            "\n"
          ]
        },
        {
          "output_type": "execute_result",
          "data": {
            "text/plain": [
              "    fruit weight  price_left  pazham  kilo  price_right\n",
              "0   apple   high           0   apple  high            4\n",
              "1   apple   high           7   apple  high            4\n",
              "2   apple   high           4   apple  high            4\n",
              "3  orange    low           4  orange   low            9\n",
              "4  orange    low          14  orange   low            9\n",
              "5  orange    low           1  orange   low            9"
            ],
            "text/html": [
              "\n",
              "  <div id=\"df-826d6d60-c020-4f07-b337-3b3da3cc82af\" class=\"colab-df-container\">\n",
              "    <div>\n",
              "<style scoped>\n",
              "    .dataframe tbody tr th:only-of-type {\n",
              "        vertical-align: middle;\n",
              "    }\n",
              "\n",
              "    .dataframe tbody tr th {\n",
              "        vertical-align: top;\n",
              "    }\n",
              "\n",
              "    .dataframe thead th {\n",
              "        text-align: right;\n",
              "    }\n",
              "</style>\n",
              "<table border=\"1\" class=\"dataframe\">\n",
              "  <thead>\n",
              "    <tr style=\"text-align: right;\">\n",
              "      <th></th>\n",
              "      <th>fruit</th>\n",
              "      <th>weight</th>\n",
              "      <th>price_left</th>\n",
              "      <th>pazham</th>\n",
              "      <th>kilo</th>\n",
              "      <th>price_right</th>\n",
              "    </tr>\n",
              "  </thead>\n",
              "  <tbody>\n",
              "    <tr>\n",
              "      <th>0</th>\n",
              "      <td>apple</td>\n",
              "      <td>high</td>\n",
              "      <td>0</td>\n",
              "      <td>apple</td>\n",
              "      <td>high</td>\n",
              "      <td>4</td>\n",
              "    </tr>\n",
              "    <tr>\n",
              "      <th>1</th>\n",
              "      <td>apple</td>\n",
              "      <td>high</td>\n",
              "      <td>7</td>\n",
              "      <td>apple</td>\n",
              "      <td>high</td>\n",
              "      <td>4</td>\n",
              "    </tr>\n",
              "    <tr>\n",
              "      <th>2</th>\n",
              "      <td>apple</td>\n",
              "      <td>high</td>\n",
              "      <td>4</td>\n",
              "      <td>apple</td>\n",
              "      <td>high</td>\n",
              "      <td>4</td>\n",
              "    </tr>\n",
              "    <tr>\n",
              "      <th>3</th>\n",
              "      <td>orange</td>\n",
              "      <td>low</td>\n",
              "      <td>4</td>\n",
              "      <td>orange</td>\n",
              "      <td>low</td>\n",
              "      <td>9</td>\n",
              "    </tr>\n",
              "    <tr>\n",
              "      <th>4</th>\n",
              "      <td>orange</td>\n",
              "      <td>low</td>\n",
              "      <td>14</td>\n",
              "      <td>orange</td>\n",
              "      <td>low</td>\n",
              "      <td>9</td>\n",
              "    </tr>\n",
              "    <tr>\n",
              "      <th>5</th>\n",
              "      <td>orange</td>\n",
              "      <td>low</td>\n",
              "      <td>1</td>\n",
              "      <td>orange</td>\n",
              "      <td>low</td>\n",
              "      <td>9</td>\n",
              "    </tr>\n",
              "  </tbody>\n",
              "</table>\n",
              "</div>\n",
              "    <div class=\"colab-df-buttons\">\n",
              "\n",
              "  <div class=\"colab-df-container\">\n",
              "    <button class=\"colab-df-convert\" onclick=\"convertToInteractive('df-826d6d60-c020-4f07-b337-3b3da3cc82af')\"\n",
              "            title=\"Convert this dataframe to an interactive table.\"\n",
              "            style=\"display:none;\">\n",
              "\n",
              "  <svg xmlns=\"http://www.w3.org/2000/svg\" height=\"24px\" viewBox=\"0 -960 960 960\">\n",
              "    <path d=\"M120-120v-720h720v720H120Zm60-500h600v-160H180v160Zm220 220h160v-160H400v160Zm0 220h160v-160H400v160ZM180-400h160v-160H180v160Zm440 0h160v-160H620v160ZM180-180h160v-160H180v160Zm440 0h160v-160H620v160Z\"/>\n",
              "  </svg>\n",
              "    </button>\n",
              "\n",
              "  <style>\n",
              "    .colab-df-container {\n",
              "      display:flex;\n",
              "      gap: 12px;\n",
              "    }\n",
              "\n",
              "    .colab-df-convert {\n",
              "      background-color: #E8F0FE;\n",
              "      border: none;\n",
              "      border-radius: 50%;\n",
              "      cursor: pointer;\n",
              "      display: none;\n",
              "      fill: #1967D2;\n",
              "      height: 32px;\n",
              "      padding: 0 0 0 0;\n",
              "      width: 32px;\n",
              "    }\n",
              "\n",
              "    .colab-df-convert:hover {\n",
              "      background-color: #E2EBFA;\n",
              "      box-shadow: 0px 1px 2px rgba(60, 64, 67, 0.3), 0px 1px 3px 1px rgba(60, 64, 67, 0.15);\n",
              "      fill: #174EA6;\n",
              "    }\n",
              "\n",
              "    .colab-df-buttons div {\n",
              "      margin-bottom: 4px;\n",
              "    }\n",
              "\n",
              "    [theme=dark] .colab-df-convert {\n",
              "      background-color: #3B4455;\n",
              "      fill: #D2E3FC;\n",
              "    }\n",
              "\n",
              "    [theme=dark] .colab-df-convert:hover {\n",
              "      background-color: #434B5C;\n",
              "      box-shadow: 0px 1px 3px 1px rgba(0, 0, 0, 0.15);\n",
              "      filter: drop-shadow(0px 1px 2px rgba(0, 0, 0, 0.3));\n",
              "      fill: #FFFFFF;\n",
              "    }\n",
              "  </style>\n",
              "\n",
              "    <script>\n",
              "      const buttonEl =\n",
              "        document.querySelector('#df-826d6d60-c020-4f07-b337-3b3da3cc82af button.colab-df-convert');\n",
              "      buttonEl.style.display =\n",
              "        google.colab.kernel.accessAllowed ? 'block' : 'none';\n",
              "\n",
              "      async function convertToInteractive(key) {\n",
              "        const element = document.querySelector('#df-826d6d60-c020-4f07-b337-3b3da3cc82af');\n",
              "        const dataTable =\n",
              "          await google.colab.kernel.invokeFunction('convertToInteractive',\n",
              "                                                    [key], {});\n",
              "        if (!dataTable) return;\n",
              "\n",
              "        const docLinkHtml = 'Like what you see? Visit the ' +\n",
              "          '<a target=\"_blank\" href=https://colab.research.google.com/notebooks/data_table.ipynb>data table notebook</a>'\n",
              "          + ' to learn more about interactive tables.';\n",
              "        element.innerHTML = '';\n",
              "        dataTable['output_type'] = 'display_data';\n",
              "        await google.colab.output.renderOutput(dataTable, element);\n",
              "        const docLink = document.createElement('div');\n",
              "        docLink.innerHTML = docLinkHtml;\n",
              "        element.appendChild(docLink);\n",
              "      }\n",
              "    </script>\n",
              "  </div>\n",
              "\n",
              "\n",
              "<div id=\"df-f15a1e3b-2ff2-47e2-b95f-0ab9f8aab3c0\">\n",
              "  <button class=\"colab-df-quickchart\" onclick=\"quickchart('df-f15a1e3b-2ff2-47e2-b95f-0ab9f8aab3c0')\"\n",
              "            title=\"Suggest charts\"\n",
              "            style=\"display:none;\">\n",
              "\n",
              "<svg xmlns=\"http://www.w3.org/2000/svg\" height=\"24px\"viewBox=\"0 0 24 24\"\n",
              "     width=\"24px\">\n",
              "    <g>\n",
              "        <path d=\"M19 3H5c-1.1 0-2 .9-2 2v14c0 1.1.9 2 2 2h14c1.1 0 2-.9 2-2V5c0-1.1-.9-2-2-2zM9 17H7v-7h2v7zm4 0h-2V7h2v10zm4 0h-2v-4h2v4z\"/>\n",
              "    </g>\n",
              "</svg>\n",
              "  </button>\n",
              "\n",
              "<style>\n",
              "  .colab-df-quickchart {\n",
              "      --bg-color: #E8F0FE;\n",
              "      --fill-color: #1967D2;\n",
              "      --hover-bg-color: #E2EBFA;\n",
              "      --hover-fill-color: #174EA6;\n",
              "      --disabled-fill-color: #AAA;\n",
              "      --disabled-bg-color: #DDD;\n",
              "  }\n",
              "\n",
              "  [theme=dark] .colab-df-quickchart {\n",
              "      --bg-color: #3B4455;\n",
              "      --fill-color: #D2E3FC;\n",
              "      --hover-bg-color: #434B5C;\n",
              "      --hover-fill-color: #FFFFFF;\n",
              "      --disabled-bg-color: #3B4455;\n",
              "      --disabled-fill-color: #666;\n",
              "  }\n",
              "\n",
              "  .colab-df-quickchart {\n",
              "    background-color: var(--bg-color);\n",
              "    border: none;\n",
              "    border-radius: 50%;\n",
              "    cursor: pointer;\n",
              "    display: none;\n",
              "    fill: var(--fill-color);\n",
              "    height: 32px;\n",
              "    padding: 0;\n",
              "    width: 32px;\n",
              "  }\n",
              "\n",
              "  .colab-df-quickchart:hover {\n",
              "    background-color: var(--hover-bg-color);\n",
              "    box-shadow: 0 1px 2px rgba(60, 64, 67, 0.3), 0 1px 3px 1px rgba(60, 64, 67, 0.15);\n",
              "    fill: var(--button-hover-fill-color);\n",
              "  }\n",
              "\n",
              "  .colab-df-quickchart-complete:disabled,\n",
              "  .colab-df-quickchart-complete:disabled:hover {\n",
              "    background-color: var(--disabled-bg-color);\n",
              "    fill: var(--disabled-fill-color);\n",
              "    box-shadow: none;\n",
              "  }\n",
              "\n",
              "  .colab-df-spinner {\n",
              "    border: 2px solid var(--fill-color);\n",
              "    border-color: transparent;\n",
              "    border-bottom-color: var(--fill-color);\n",
              "    animation:\n",
              "      spin 1s steps(1) infinite;\n",
              "  }\n",
              "\n",
              "  @keyframes spin {\n",
              "    0% {\n",
              "      border-color: transparent;\n",
              "      border-bottom-color: var(--fill-color);\n",
              "      border-left-color: var(--fill-color);\n",
              "    }\n",
              "    20% {\n",
              "      border-color: transparent;\n",
              "      border-left-color: var(--fill-color);\n",
              "      border-top-color: var(--fill-color);\n",
              "    }\n",
              "    30% {\n",
              "      border-color: transparent;\n",
              "      border-left-color: var(--fill-color);\n",
              "      border-top-color: var(--fill-color);\n",
              "      border-right-color: var(--fill-color);\n",
              "    }\n",
              "    40% {\n",
              "      border-color: transparent;\n",
              "      border-right-color: var(--fill-color);\n",
              "      border-top-color: var(--fill-color);\n",
              "    }\n",
              "    60% {\n",
              "      border-color: transparent;\n",
              "      border-right-color: var(--fill-color);\n",
              "    }\n",
              "    80% {\n",
              "      border-color: transparent;\n",
              "      border-right-color: var(--fill-color);\n",
              "      border-bottom-color: var(--fill-color);\n",
              "    }\n",
              "    90% {\n",
              "      border-color: transparent;\n",
              "      border-bottom-color: var(--fill-color);\n",
              "    }\n",
              "  }\n",
              "</style>\n",
              "\n",
              "  <script>\n",
              "    async function quickchart(key) {\n",
              "      const quickchartButtonEl =\n",
              "        document.querySelector('#' + key + ' button');\n",
              "      quickchartButtonEl.disabled = true;  // To prevent multiple clicks.\n",
              "      quickchartButtonEl.classList.add('colab-df-spinner');\n",
              "      try {\n",
              "        const charts = await google.colab.kernel.invokeFunction(\n",
              "            'suggestCharts', [key], {});\n",
              "      } catch (error) {\n",
              "        console.error('Error during call to suggestCharts:', error);\n",
              "      }\n",
              "      quickchartButtonEl.classList.remove('colab-df-spinner');\n",
              "      quickchartButtonEl.classList.add('colab-df-quickchart-complete');\n",
              "    }\n",
              "    (() => {\n",
              "      let quickchartButtonEl =\n",
              "        document.querySelector('#df-f15a1e3b-2ff2-47e2-b95f-0ab9f8aab3c0 button');\n",
              "      quickchartButtonEl.style.display =\n",
              "        google.colab.kernel.accessAllowed ? 'block' : 'none';\n",
              "    })();\n",
              "  </script>\n",
              "</div>\n",
              "    </div>\n",
              "  </div>\n"
            ]
          },
          "metadata": {},
          "execution_count": 70
        }
      ]
    },
    {
      "cell_type": "markdown",
      "source": [
        "Задача 69"
      ],
      "metadata": {
        "id": "nqSawJjC2geb"
      }
    },
    {
      "cell_type": "code",
      "source": [
        "df = pd.DataFrame(np.random.randint(1, 100, 20).reshape(-1, 4), columns = list('abcd'))\n",
        "\n",
        "print(df)\n",
        "print(\"\\n\")\n",
        "df['a_lag1'] = df['a'].shift(-1)\n",
        "df['b_lead1'] = df['b'].shift(1)\n",
        "print(df)"
      ],
      "metadata": {
        "colab": {
          "base_uri": "https://localhost:8080/"
        },
        "id": "4XUaNJ1uGiRQ",
        "outputId": "8497879a-8090-4cac-ac77-b2f4fe564e2f"
      },
      "execution_count": null,
      "outputs": [
        {
          "output_type": "stream",
          "name": "stdout",
          "text": [
            "    a   b   c   d\n",
            "0  72  89  44  37\n",
            "1  96  76  61  96\n",
            "2  26  22  88  82\n",
            "3  20  77  28  76\n",
            "4  43  19  53  49\n",
            "\n",
            "\n",
            "    a   b   c   d  a_lag1  b_lead1\n",
            "0  72  89  44  37    96.0      NaN\n",
            "1  96  76  61  96    26.0     89.0\n",
            "2  26  22  88  82    20.0     76.0\n",
            "3  20  77  28  76    43.0     22.0\n",
            "4  43  19  53  49     NaN     77.0\n"
          ]
        }
      ]
    },
    {
      "cell_type": "markdown",
      "source": [
        "Задача 71"
      ],
      "metadata": {
        "id": "MUEt-t6d2g2C"
      }
    },
    {
      "cell_type": "code",
      "source": [
        "df = pd.DataFrame(np.random.randint(1, 10, 20).reshape(-1, 4), columns = list('abcd'))\n",
        "\n",
        "print(df)\n",
        "print(\"\\n\")\n",
        "pd.value_counts(df.values.ravel())"
      ],
      "metadata": {
        "colab": {
          "base_uri": "https://localhost:8080/"
        },
        "id": "DWlvfvZ2Giem",
        "outputId": "e3ed6d41-ae91-4613-c729-0f97bcd5ca57"
      },
      "execution_count": null,
      "outputs": [
        {
          "output_type": "stream",
          "name": "stdout",
          "text": [
            "   a  b  c  d\n",
            "0  2  5  5  2\n",
            "1  4  3  6  2\n",
            "2  6  7  2  6\n",
            "3  1  7  6  4\n",
            "4  3  3  6  9\n",
            "\n",
            "\n"
          ]
        },
        {
          "output_type": "execute_result",
          "data": {
            "text/plain": [
              "6    5\n",
              "2    4\n",
              "3    3\n",
              "5    2\n",
              "4    2\n",
              "7    2\n",
              "1    1\n",
              "9    1\n",
              "dtype: int64"
            ]
          },
          "metadata": {},
          "execution_count": 72
        }
      ]
    },
    {
      "cell_type": "markdown",
      "source": [
        "Задача 72"
      ],
      "metadata": {
        "id": "yfJI4rl42hsZ"
      }
    },
    {
      "cell_type": "code",
      "source": [
        "df = pd.DataFrame([\"STD, City    State\",\n",
        "\"33, Kolkata    West Bengal\",\n",
        "\"44, Chennai    Tamil Nadu\",\n",
        "\"40, Hyderabad    Telengana\",\n",
        "\"80, Bangalore    Karnataka\"], columns=['row'])\n",
        "\n",
        "print(df)\n",
        "print(\"\\n\")\n",
        "df_out = df.row.str.split(',|\\t', expand=True)\n",
        "new_header = df_out.iloc[0]\n",
        "df_out = df_out[1:]\n",
        "df_out.columns = new_header\n",
        "print(df_out)"
      ],
      "metadata": {
        "colab": {
          "base_uri": "https://localhost:8080/"
        },
        "id": "XdGcDsBcGs1Q",
        "outputId": "54b7f2e4-6de6-4fee-9de6-1c2505da7299"
      },
      "execution_count": null,
      "outputs": [
        {
          "output_type": "stream",
          "name": "stdout",
          "text": [
            "                          row\n",
            "0          STD, City    State\n",
            "1  33, Kolkata    West Bengal\n",
            "2   44, Chennai    Tamil Nadu\n",
            "3  40, Hyderabad    Telengana\n",
            "4  80, Bangalore    Karnataka\n",
            "\n",
            "\n",
            "0 STD            City    State\n",
            "1  33   Kolkata    West Bengal\n",
            "2  44    Chennai    Tamil Nadu\n",
            "3  40   Hyderabad    Telengana\n",
            "4  80   Bangalore    Karnataka\n"
          ]
        }
      ]
    }
  ]
}