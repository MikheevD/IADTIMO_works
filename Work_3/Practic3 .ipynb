{
  "nbformat": 4,
  "nbformat_minor": 0,
  "metadata": {
    "colab": {
      "provenance": []
    },
    "kernelspec": {
      "name": "python3",
      "display_name": "Python 3"
    },
    "language_info": {
      "name": "python"
    }
  },
  "cells": [
    {
      "cell_type": "markdown",
      "source": [
        "Задание 1"
      ],
      "metadata": {
        "id": "tTr2_9-h-SEY"
      }
    },
    {
      "cell_type": "code",
      "execution_count": 1,
      "metadata": {
        "colab": {
          "base_uri": "https://localhost:8080/"
        },
        "id": "zJbzP5oxuhsR",
        "outputId": "64321849-b51a-4fe3-bc63-d8e9e445cc8f"
      },
      "outputs": [
        {
          "output_type": "stream",
          "name": "stdout",
          "text": [
            "[0, 86, 59, 67, 99, 41, 86, 56, 43, 64]\n",
            "[64, 43, 56, 86, 41, 99, 67, 59, 86, 0]\n"
          ]
        }
      ],
      "source": [
        "import random\n",
        "\n",
        "def generate_list(k):\n",
        "  return [random.randrange(0, 100) for _ in range(k)]\n",
        "u = generate_list(10)\n",
        "print(u)\n",
        "\n",
        "print(list(reversed(u)))"
      ]
    },
    {
      "cell_type": "markdown",
      "source": [
        "Задание 2"
      ],
      "metadata": {
        "id": "xiamU-NE-Vp8"
      }
    },
    {
      "cell_type": "code",
      "source": [
        "u = generate_list(20)\n",
        "y = generate_list(30)\n",
        "t = []\n",
        "print(u, y)\n",
        "\n",
        "for i in range(1, len(u), 2):\n",
        "  t.append(u[i])\n",
        "for i in range(2, len(y), 2):\n",
        "  t.append(y[i])\n",
        "\n",
        "print(t)"
      ],
      "metadata": {
        "colab": {
          "base_uri": "https://localhost:8080/"
        },
        "id": "g1UxI7BWuvPE",
        "outputId": "e8346760-a87a-47bf-a74f-30eeaac3dbb2"
      },
      "execution_count": 2,
      "outputs": [
        {
          "output_type": "stream",
          "name": "stdout",
          "text": [
            "[51, 81, 70, 94, 3, 65, 93, 18, 9, 61, 22, 28, 39, 37, 74, 42, 73, 32, 25, 8] [7, 27, 41, 29, 58, 61, 61, 78, 13, 95, 65, 50, 63, 36, 0, 34, 43, 48, 39, 72, 88, 64, 2, 89, 60, 96, 63, 9, 3, 94]\n",
            "[81, 94, 65, 18, 61, 28, 37, 42, 32, 8, 41, 58, 61, 13, 65, 63, 0, 43, 39, 88, 2, 60, 63, 3]\n"
          ]
        }
      ]
    },
    {
      "cell_type": "markdown",
      "source": [
        "Задание 3"
      ],
      "metadata": {
        "id": "86tiJ4jH-jXf"
      }
    },
    {
      "cell_type": "code",
      "source": [
        "from random import randint\n",
        "\n",
        "my_list = [input() for i in range(randint(4, 6))]\n",
        "print(my_list)\n",
        "\n",
        "result = list(set(my_list))\n",
        "print(result)"
      ],
      "metadata": {
        "colab": {
          "base_uri": "https://localhost:8080/"
        },
        "id": "rpeFmk0duvfu",
        "outputId": "7d5d0252-c4e0-4954-f9e7-e78a13c193d3"
      },
      "execution_count": 3,
      "outputs": [
        {
          "output_type": "stream",
          "name": "stdout",
          "text": [
            "10\n",
            "23\n",
            "54\n",
            "5\n",
            "['10', '23', '54', '5']\n",
            "['5', '10', '23', '54']\n"
          ]
        }
      ]
    },
    {
      "cell_type": "markdown",
      "source": [
        "Задание 4"
      ],
      "metadata": {
        "id": "9y5Uk-20-lfG"
      }
    },
    {
      "cell_type": "code",
      "source": [
        "f = {1: 'latte', 2: 'latte', 3: 'cappuccino', 4: 'mocha', 5: 'cappuccino'}\n",
        "r = dict()\n",
        "print(f)\n",
        "\n",
        "for key in f:\n",
        "  if f[key] not in r:\n",
        "    r[f[key]] = []\n",
        "  r[f[key]].append(key)\n",
        "print(r)"
      ],
      "metadata": {
        "colab": {
          "base_uri": "https://localhost:8080/"
        },
        "id": "IG6F3nAKuvwk",
        "outputId": "a6d459e0-d310-4a10-ab1b-1bade36a89e0"
      },
      "execution_count": 4,
      "outputs": [
        {
          "output_type": "stream",
          "name": "stdout",
          "text": [
            "{1: 'latte', 2: 'latte', 3: 'cappuccino', 4: 'mocha', 5: 'cappuccino'}\n",
            "{'latte': [1, 2], 'cappuccino': [3, 5], 'mocha': [4]}\n"
          ]
        }
      ]
    },
    {
      "cell_type": "markdown",
      "source": [
        "Задание 5"
      ],
      "metadata": {
        "id": "U_V-_WVR-of1"
      }
    },
    {
      "cell_type": "code",
      "source": [
        "import random\n",
        "import string\n",
        "\n",
        "def get_random_string(length):\n",
        "  letters = string.ascii_lowercase\n",
        "  result_str = ''.join(random.choice(letters) for i in range(length))\n",
        "  return result_str\n",
        "\n",
        "\n",
        "dict1 = {}\n",
        "dict2 = {}\n",
        "\n",
        "for i in range(25):\n",
        "  dict1.update({get_random_string(5):random.randint(-20,20)})\n",
        "  dict2.update({get_random_string(5):random.randint(-20,20)})\n",
        "\n",
        "print(\"Dictionary 1 is\",dict1)\n",
        "print(\"Dictionaty 2 is\",dict2)\n",
        "\n",
        "intersection = [value for value in list(dict1.values()) if value in list(dict2.values())]\n",
        "\n",
        "print(\"Intersection of values\",intersection)\n",
        "\n",
        "pairs = {}\n",
        "\n",
        "for key,value in dict1.items():\n",
        "  if value in intersection:\n",
        "    pairs.update({key:value})\n",
        "\n",
        "for key,value in dict2.items():\n",
        "  if value in intersection:\n",
        "    pairs.update({key:value})\n",
        "\n",
        "print(\"Pairs from intersection of values are\",pairs)"
      ],
      "metadata": {
        "id": "fHD3L6FLuwKn",
        "colab": {
          "base_uri": "https://localhost:8080/"
        },
        "outputId": "3c69f5c0-3672-402d-a580-83fa91ba64c2"
      },
      "execution_count": 6,
      "outputs": [
        {
          "output_type": "stream",
          "name": "stdout",
          "text": [
            "Dictionary 1 is {'njwen': -19, 'ytnzu': 6, 'jgknb': -18, 'ddysp': -15, 'nrvlf': 7, 'akgyb': -1, 'qvqyh': -13, 'mouhl': 11, 'laolm': 1, 'xhvoz': -18, 'vzqfk': -13, 'vjbci': 6, 'qhter': 9, 'dogqk': 7, 'fvrzt': 0, 'mtoet': 19, 'ltemj': -3, 'hsraj': -12, 'odiko': -4, 'emkyi': -14, 'knxqt': 20, 'vcpag': 0, 'mtxmh': -15, 'xoqlv': 8, 'yrzjw': 14}\n",
            "Dictionaty 2 is {'mrbws': 16, 'dlmov': 6, 'izweo': -15, 'omymp': 9, 'htoax': 0, 'aqohb': -3, 'lslug': 1, 'jnyck': -9, 'wtzlk': 13, 'gqthw': 18, 'kdkae': 11, 'luahb': 20, 'uacco': -17, 'lqliz': 15, 'mhrcx': -5, 'uieeh': -8, 'bzfnf': -15, 'jfkkr': 3, 'vdarn': -15, 'pemhk': -2, 'fnnkj': -1, 'wseqq': -14, 'aenwy': 4, 'tjaee': -10, 'jioxl': -5}\n",
            "Intersection of values [6, -15, -1, 11, 1, 6, 9, 0, -3, -14, 20, 0, -15]\n",
            "Pairs from intersection of values are {'ytnzu': 6, 'ddysp': -15, 'akgyb': -1, 'mouhl': 11, 'laolm': 1, 'vjbci': 6, 'qhter': 9, 'fvrzt': 0, 'ltemj': -3, 'emkyi': -14, 'knxqt': 20, 'vcpag': 0, 'mtxmh': -15, 'dlmov': 6, 'izweo': -15, 'omymp': 9, 'htoax': 0, 'aqohb': -3, 'lslug': 1, 'kdkae': 11, 'luahb': 20, 'bzfnf': -15, 'vdarn': -15, 'fnnkj': -1, 'wseqq': -14}\n"
          ]
        }
      ]
    }
  ]
}